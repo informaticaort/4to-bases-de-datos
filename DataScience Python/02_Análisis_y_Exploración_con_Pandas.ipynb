{
  "nbformat": 4,
  "nbformat_minor": 0,
  "metadata": {
    "colab": {
      "name": "02 - Análisis y Exploración con Pandas",
      "provenance": []
    },
    "kernelspec": {
      "name": "python3",
      "display_name": "Python 3"
    }
  },
  "cells": [
    {
      "cell_type": "markdown",
      "metadata": {
        "id": "N2iMR8GiFcau",
        "colab_type": "text"
      },
      "source": [
        "# **02 - Análisis y Exploración de datos con Pandas**"
      ]
    },
    {
      "cell_type": "markdown",
      "metadata": {
        "id": "NK_qI9eZFjT0",
        "colab_type": "text"
      },
      "source": [
        "## **La librería Pandas**\n",
        "\n",
        "Es una librería del lenguaje Python cuyo principal objetivo es manipular fácilmente grandes conjuntos de datos, y realizar operaciones y estadísticas sobre los mismos. Se lleva muy bien con las librerías *numpy y pyplot*. Acá, [la documentación oficial](https://pandas.pydata.org/)\n",
        "\n"
      ]
    },
    {
      "cell_type": "markdown",
      "metadata": {
        "id": "4Tb6w09XGpti",
        "colab_type": "text"
      },
      "source": [
        "### Importación de librería\n",
        "Tal cual vimos con las otras librerías, Pandas también tiene un pseudónimo y es **pd**. Así llamaremos a la librería cada vez que necesitemos utilizar alguna de sus funcionalidades"
      ]
    },
    {
      "cell_type": "code",
      "metadata": {
        "id": "syOZHtpAGuhp",
        "colab_type": "code",
        "colab": {}
      },
      "source": [
        "import pandas as pd"
      ],
      "execution_count": 0,
      "outputs": []
    },
    {
      "cell_type": "markdown",
      "metadata": {
        "id": "LEqa_Kx4HO0Z",
        "colab_type": "text"
      },
      "source": [
        "Podemos ver información relevante de una librería, escribiendo su nombre seguido de un símbolo de pregunta.\n",
        "\n",
        "*Tip importante*: Esto funciona también para conocer qué realiza una función en particular"
      ]
    },
    {
      "cell_type": "code",
      "metadata": {
        "id": "Fvil58LlHKBz",
        "colab_type": "code",
        "colab": {}
      },
      "source": [
        "pd?"
      ],
      "execution_count": 0,
      "outputs": []
    },
    {
      "cell_type": "markdown",
      "metadata": {
        "id": "bgVqjjIbHlrO",
        "colab_type": "text"
      },
      "source": [
        "## **Lectura de datasets**\n",
        "Un *dataset* es un conjunto de datos organizados en una cierta disposición. Existen muchos formatos de datasets. A lo largo del módulo de Ciencia de Datos, trabajaremos con datasets que provienen de archivos .CSV, archivos JSON, .txt, entre otros.\n",
        "\n",
        "La librería Pandas procesa de forma rápida el contenido de los datasets (cualquiera sea el caso) y lo almacena en un **DataFrame**. Un DataFrame es una estructura bidimensional lógica (existe únicamente en memoria), que contiene datos estructurados y, a diferencia de un dataset, cada columna o campo tiene su nombre correspondiente que identifica los valores de cada registro o fila. "
      ]
    },
    {
      "cell_type": "markdown",
      "metadata": {
        "id": "HFTVwt4cJWnI",
        "colab_type": "text"
      },
      "source": [
        "### Archivos .CSV\n",
        "Los archivos *CSV* son fuentes de información generalmente separadas por comas, o por algún caracter en particular que delimita el final de cada dato. \n"
      ]
    },
    {
      "cell_type": "markdown",
      "metadata": {
        "id": "HWzZl7VzInjv",
        "colab_type": "text"
      },
      "source": [
        "Como primer ejemplo de lectura de datasets, procederemos a importar un archivo .CSV. Vamos a obtener los datos de Ingresos y Egresos de personas al país en el 4° trimestre del año 2019, cuyo link de acceso al dataset figura en este [sitio web](https://datos.gob.ar/dataset/interior-ingresos-egresos-personas-al-pais-residencias-otorgadas/archivo/interior_effbfa04-fec7-43af-ab9e-ad5347f5e767)  \n",
        "\n",
        "El enlace que vamos a utilizar se obtiene haciendo click derecho en el botón \"*Descargar*\" y eligiendo la opción \"copiar la dirección del vínculo\".\n",
        "\n",
        "Para importar los datos, guardamos la URL destino en una variable, y se la mandamos por parámetro a la función **read_csv** que provee Pandas\n"
      ]
    },
    {
      "cell_type": "code",
      "metadata": {
        "id": "8U1-ZpLfHKc_",
        "colab_type": "code",
        "colab": {}
      },
      "source": [
        "url = \"https://datos.mininterior.gob.ar/dataset/dd032084-b7eb-4317-9151-05fc850c1654/resource/effbfa04-fec7-43af-ab9e-ad5347f5e767/download/movimientos-migratorios--4-trimestre---ano-2019.csv\"\n",
        "df_ing_egr = pd.read_csv(url, sep=',', encoding = \"ISO-8859-1\")"
      ],
      "execution_count": 0,
      "outputs": []
    },
    {
      "cell_type": "markdown",
      "metadata": {
        "id": "fLycCmnMLx1u",
        "colab_type": "text"
      },
      "source": [
        "En este caso, aparte de mandarle por parámetro la URL, vemos que se definió el caracter separador (una coma), y además se utilizó cierta codificación particular (ISO-8859-1). Estas dos configuraciones de lectura no son siempre necesarias, depende exclusivamente de cómo estén guardados los datos a importar."
      ]
    },
    {
      "cell_type": "markdown",
      "metadata": {
        "id": "c0dSUz_wMPH5",
        "colab_type": "text"
      },
      "source": [
        "Lo que hicimos fue guardar en una variable df_ing_egr , el resultado de la lectura del dataset. Posteriormente, invocaremos a df_ing_egr en una nueva celda de código para **visualizar sus primeras y últimas 5 filas**."
      ]
    },
    {
      "cell_type": "code",
      "metadata": {
        "id": "KMeoIt7sMjQQ",
        "colab_type": "code",
        "colab": {
          "base_uri": "https://localhost:8080/",
          "height": 419
        },
        "outputId": "86b901a6-880f-4978-ad5b-f0cf128d48d0"
      },
      "source": [
        "df_ing_egr"
      ],
      "execution_count": 4,
      "outputs": [
        {
          "output_type": "execute_result",
          "data": {
            "text/html": [
              "<div>\n",
              "<style scoped>\n",
              "    .dataframe tbody tr th:only-of-type {\n",
              "        vertical-align: middle;\n",
              "    }\n",
              "\n",
              "    .dataframe tbody tr th {\n",
              "        vertical-align: top;\n",
              "    }\n",
              "\n",
              "    .dataframe thead th {\n",
              "        text-align: right;\n",
              "    }\n",
              "</style>\n",
              "<table border=\"1\" class=\"dataframe\">\n",
              "  <thead>\n",
              "    <tr style=\"text-align: right;\">\n",
              "      <th></th>\n",
              "      <th>PASO_CRUCE</th>\n",
              "      <th>CANTIDAD</th>\n",
              "    </tr>\n",
              "  </thead>\n",
              "  <tbody>\n",
              "    <tr>\n",
              "      <th>0</th>\n",
              "      <td>AERO EZEIZA</td>\n",
              "      <td>2949664</td>\n",
              "    </tr>\n",
              "    <tr>\n",
              "      <th>1</th>\n",
              "      <td>PTE. INT. TANCREDO NEVES</td>\n",
              "      <td>2765577</td>\n",
              "    </tr>\n",
              "    <tr>\n",
              "      <th>2</th>\n",
              "      <td>PTE. SAN ROQUE GONZALEZ DE SAN</td>\n",
              "      <td>2202025</td>\n",
              "    </tr>\n",
              "    <tr>\n",
              "      <th>3</th>\n",
              "      <td>SALVADOR MAZZA - YACUIBA</td>\n",
              "      <td>923252</td>\n",
              "    </tr>\n",
              "    <tr>\n",
              "      <th>4</th>\n",
              "      <td>PASO DE LOS LIBRES</td>\n",
              "      <td>880025</td>\n",
              "    </tr>\n",
              "    <tr>\n",
              "      <th>...</th>\n",
              "      <td>...</td>\n",
              "      <td>...</td>\n",
              "    </tr>\n",
              "    <tr>\n",
              "      <th>95</th>\n",
              "      <td>PASO SICO</td>\n",
              "      <td>2236</td>\n",
              "    </tr>\n",
              "    <tr>\n",
              "      <th>96</th>\n",
              "      <td>AERO PUBLICO DE USHUAIA</td>\n",
              "      <td>2127</td>\n",
              "    </tr>\n",
              "    <tr>\n",
              "      <th>97</th>\n",
              "      <td>PUERTO LIBERTAD</td>\n",
              "      <td>2083</td>\n",
              "    </tr>\n",
              "    <tr>\n",
              "      <th>98</th>\n",
              "      <td>PUERTO OASIS</td>\n",
              "      <td>2025</td>\n",
              "    </tr>\n",
              "    <tr>\n",
              "      <th>99</th>\n",
              "      <td>PUERTO SANTA ANA</td>\n",
              "      <td>1970</td>\n",
              "    </tr>\n",
              "  </tbody>\n",
              "</table>\n",
              "<p>100 rows × 2 columns</p>\n",
              "</div>"
            ],
            "text/plain": [
              "                        PASO_CRUCE  CANTIDAD\n",
              "0                      AERO EZEIZA   2949664\n",
              "1         PTE. INT. TANCREDO NEVES   2765577\n",
              "2   PTE. SAN ROQUE GONZALEZ DE SAN   2202025\n",
              "3         SALVADOR MAZZA - YACUIBA    923252\n",
              "4               PASO DE LOS LIBRES    880025\n",
              "..                             ...       ...\n",
              "95                       PASO SICO      2236\n",
              "96         AERO PUBLICO DE USHUAIA      2127\n",
              "97                 PUERTO LIBERTAD      2083\n",
              "98                    PUERTO OASIS      2025\n",
              "99                PUERTO SANTA ANA      1970\n",
              "\n",
              "[100 rows x 2 columns]"
            ]
          },
          "metadata": {
            "tags": []
          },
          "execution_count": 4
        }
      ]
    },
    {
      "cell_type": "markdown",
      "metadata": {
        "id": "sRwoBCPqMk4e",
        "colab_type": "text"
      },
      "source": [
        "Es muy importante separar la lectura del dataset en una celda diferente a las que utilizamos para visualizarlo o procesar su contenido. De lo contrario, estaremos cargando nuevamente la fuente de datos cuando tal vez no sea necesario. "
      ]
    },
    {
      "cell_type": "markdown",
      "metadata": {
        "id": "p6YcQlwFbVdL",
        "colab_type": "text"
      },
      "source": [
        "### JSON\n",
        "Así como podemos leer un archivo CSV (desde una URL, o bien cargarlo a Google Colaboratory si lo tenemos en nuestra PC) podemos leer un JSON. Los archivos JSON tienen una estructura particular, en la cual tenemos objetos con propiedades, e incluso podemos contar con arrays que incluyan objetos dentro. "
      ]
    },
    {
      "cell_type": "markdown",
      "metadata": {
        "id": "jDH-HJwqfckO",
        "colab_type": "text"
      },
      "source": [
        "La forma de importar un JSON es muy similar a la carga de un archivo CSV, solamente cambia el método de Pandas a invocar. "
      ]
    },
    {
      "cell_type": "code",
      "metadata": {
        "id": "0uRQgfSYba8f",
        "colab_type": "code",
        "colab": {
          "base_uri": "https://localhost:8080/",
          "height": 222
        },
        "outputId": "dc2254cf-d56b-4580-c853-e556f1a6505b"
      },
      "source": [
        "url = \"https://raw.githubusercontent.com/corysimmons/colors.json/master/colors.json\"\n",
        "df_colores = pd.read_json(url)\n",
        "df_colores"
      ],
      "execution_count": 5,
      "outputs": [
        {
          "output_type": "execute_result",
          "data": {
            "text/html": [
              "<div>\n",
              "<style scoped>\n",
              "    .dataframe tbody tr th:only-of-type {\n",
              "        vertical-align: middle;\n",
              "    }\n",
              "\n",
              "    .dataframe tbody tr th {\n",
              "        vertical-align: top;\n",
              "    }\n",
              "\n",
              "    .dataframe thead th {\n",
              "        text-align: right;\n",
              "    }\n",
              "</style>\n",
              "<table border=\"1\" class=\"dataframe\">\n",
              "  <thead>\n",
              "    <tr style=\"text-align: right;\">\n",
              "      <th></th>\n",
              "      <th>aliceblue</th>\n",
              "      <th>antiquewhite</th>\n",
              "      <th>aqua</th>\n",
              "      <th>aquamarine</th>\n",
              "      <th>azure</th>\n",
              "      <th>beige</th>\n",
              "      <th>bisque</th>\n",
              "      <th>black</th>\n",
              "      <th>blanchedalmond</th>\n",
              "      <th>blue</th>\n",
              "      <th>blueviolet</th>\n",
              "      <th>brown</th>\n",
              "      <th>burlywood</th>\n",
              "      <th>cadetblue</th>\n",
              "      <th>chartreuse</th>\n",
              "      <th>chocolate</th>\n",
              "      <th>coral</th>\n",
              "      <th>cornflowerblue</th>\n",
              "      <th>cornsilk</th>\n",
              "      <th>crimson</th>\n",
              "      <th>cyan</th>\n",
              "      <th>darkblue</th>\n",
              "      <th>darkcyan</th>\n",
              "      <th>darkgoldenrod</th>\n",
              "      <th>darkgray</th>\n",
              "      <th>darkgreen</th>\n",
              "      <th>darkgrey</th>\n",
              "      <th>darkkhaki</th>\n",
              "      <th>darkmagenta</th>\n",
              "      <th>darkolivegreen</th>\n",
              "      <th>darkorange</th>\n",
              "      <th>darkorchid</th>\n",
              "      <th>darkred</th>\n",
              "      <th>darksalmon</th>\n",
              "      <th>darkseagreen</th>\n",
              "      <th>darkslateblue</th>\n",
              "      <th>darkslategray</th>\n",
              "      <th>darkslategrey</th>\n",
              "      <th>darkturquoise</th>\n",
              "      <th>darkviolet</th>\n",
              "      <th>...</th>\n",
              "      <th>palegreen</th>\n",
              "      <th>paleturquoise</th>\n",
              "      <th>palevioletred</th>\n",
              "      <th>papayawhip</th>\n",
              "      <th>peachpuff</th>\n",
              "      <th>peru</th>\n",
              "      <th>pink</th>\n",
              "      <th>plum</th>\n",
              "      <th>powderblue</th>\n",
              "      <th>purple</th>\n",
              "      <th>red</th>\n",
              "      <th>rosybrown</th>\n",
              "      <th>royalblue</th>\n",
              "      <th>saddlebrown</th>\n",
              "      <th>salmon</th>\n",
              "      <th>sandybrown</th>\n",
              "      <th>seagreen</th>\n",
              "      <th>seashell</th>\n",
              "      <th>sienna</th>\n",
              "      <th>silver</th>\n",
              "      <th>skyblue</th>\n",
              "      <th>slateblue</th>\n",
              "      <th>slategray</th>\n",
              "      <th>slategrey</th>\n",
              "      <th>snow</th>\n",
              "      <th>springgreen</th>\n",
              "      <th>steelblue</th>\n",
              "      <th>tan</th>\n",
              "      <th>teal</th>\n",
              "      <th>thistle</th>\n",
              "      <th>tomato</th>\n",
              "      <th>transparent</th>\n",
              "      <th>turquoise</th>\n",
              "      <th>violet</th>\n",
              "      <th>wheat</th>\n",
              "      <th>white</th>\n",
              "      <th>whitesmoke</th>\n",
              "      <th>yellow</th>\n",
              "      <th>yellowgreen</th>\n",
              "      <th>rebeccapurple</th>\n",
              "    </tr>\n",
              "  </thead>\n",
              "  <tbody>\n",
              "    <tr>\n",
              "      <th>0</th>\n",
              "      <td>240</td>\n",
              "      <td>250</td>\n",
              "      <td>0</td>\n",
              "      <td>127</td>\n",
              "      <td>240</td>\n",
              "      <td>245</td>\n",
              "      <td>255</td>\n",
              "      <td>0</td>\n",
              "      <td>255</td>\n",
              "      <td>0</td>\n",
              "      <td>138</td>\n",
              "      <td>165</td>\n",
              "      <td>222</td>\n",
              "      <td>95</td>\n",
              "      <td>127</td>\n",
              "      <td>210</td>\n",
              "      <td>255</td>\n",
              "      <td>100</td>\n",
              "      <td>255</td>\n",
              "      <td>220</td>\n",
              "      <td>0</td>\n",
              "      <td>0</td>\n",
              "      <td>0</td>\n",
              "      <td>184</td>\n",
              "      <td>169</td>\n",
              "      <td>0</td>\n",
              "      <td>169</td>\n",
              "      <td>189</td>\n",
              "      <td>139</td>\n",
              "      <td>85</td>\n",
              "      <td>255</td>\n",
              "      <td>153</td>\n",
              "      <td>139</td>\n",
              "      <td>233</td>\n",
              "      <td>143</td>\n",
              "      <td>72</td>\n",
              "      <td>47</td>\n",
              "      <td>47</td>\n",
              "      <td>0</td>\n",
              "      <td>148</td>\n",
              "      <td>...</td>\n",
              "      <td>152</td>\n",
              "      <td>175</td>\n",
              "      <td>219</td>\n",
              "      <td>255</td>\n",
              "      <td>255</td>\n",
              "      <td>205</td>\n",
              "      <td>255</td>\n",
              "      <td>221</td>\n",
              "      <td>176</td>\n",
              "      <td>128</td>\n",
              "      <td>255</td>\n",
              "      <td>188</td>\n",
              "      <td>65</td>\n",
              "      <td>139</td>\n",
              "      <td>250</td>\n",
              "      <td>244</td>\n",
              "      <td>46</td>\n",
              "      <td>255</td>\n",
              "      <td>160</td>\n",
              "      <td>192</td>\n",
              "      <td>135</td>\n",
              "      <td>106</td>\n",
              "      <td>112</td>\n",
              "      <td>112</td>\n",
              "      <td>255</td>\n",
              "      <td>0</td>\n",
              "      <td>70</td>\n",
              "      <td>210</td>\n",
              "      <td>0</td>\n",
              "      <td>216</td>\n",
              "      <td>255</td>\n",
              "      <td>0</td>\n",
              "      <td>64</td>\n",
              "      <td>238</td>\n",
              "      <td>245</td>\n",
              "      <td>255</td>\n",
              "      <td>245</td>\n",
              "      <td>255</td>\n",
              "      <td>154</td>\n",
              "      <td>102</td>\n",
              "    </tr>\n",
              "    <tr>\n",
              "      <th>1</th>\n",
              "      <td>248</td>\n",
              "      <td>235</td>\n",
              "      <td>255</td>\n",
              "      <td>255</td>\n",
              "      <td>255</td>\n",
              "      <td>245</td>\n",
              "      <td>228</td>\n",
              "      <td>0</td>\n",
              "      <td>235</td>\n",
              "      <td>0</td>\n",
              "      <td>43</td>\n",
              "      <td>42</td>\n",
              "      <td>184</td>\n",
              "      <td>158</td>\n",
              "      <td>255</td>\n",
              "      <td>105</td>\n",
              "      <td>127</td>\n",
              "      <td>149</td>\n",
              "      <td>248</td>\n",
              "      <td>20</td>\n",
              "      <td>255</td>\n",
              "      <td>0</td>\n",
              "      <td>139</td>\n",
              "      <td>134</td>\n",
              "      <td>169</td>\n",
              "      <td>100</td>\n",
              "      <td>169</td>\n",
              "      <td>183</td>\n",
              "      <td>0</td>\n",
              "      <td>107</td>\n",
              "      <td>140</td>\n",
              "      <td>50</td>\n",
              "      <td>0</td>\n",
              "      <td>150</td>\n",
              "      <td>188</td>\n",
              "      <td>61</td>\n",
              "      <td>79</td>\n",
              "      <td>79</td>\n",
              "      <td>206</td>\n",
              "      <td>0</td>\n",
              "      <td>...</td>\n",
              "      <td>251</td>\n",
              "      <td>238</td>\n",
              "      <td>112</td>\n",
              "      <td>239</td>\n",
              "      <td>218</td>\n",
              "      <td>133</td>\n",
              "      <td>192</td>\n",
              "      <td>160</td>\n",
              "      <td>224</td>\n",
              "      <td>0</td>\n",
              "      <td>0</td>\n",
              "      <td>143</td>\n",
              "      <td>105</td>\n",
              "      <td>69</td>\n",
              "      <td>128</td>\n",
              "      <td>164</td>\n",
              "      <td>139</td>\n",
              "      <td>245</td>\n",
              "      <td>82</td>\n",
              "      <td>192</td>\n",
              "      <td>206</td>\n",
              "      <td>90</td>\n",
              "      <td>128</td>\n",
              "      <td>128</td>\n",
              "      <td>250</td>\n",
              "      <td>255</td>\n",
              "      <td>130</td>\n",
              "      <td>180</td>\n",
              "      <td>128</td>\n",
              "      <td>191</td>\n",
              "      <td>99</td>\n",
              "      <td>0</td>\n",
              "      <td>224</td>\n",
              "      <td>130</td>\n",
              "      <td>222</td>\n",
              "      <td>255</td>\n",
              "      <td>245</td>\n",
              "      <td>255</td>\n",
              "      <td>205</td>\n",
              "      <td>51</td>\n",
              "    </tr>\n",
              "    <tr>\n",
              "      <th>2</th>\n",
              "      <td>255</td>\n",
              "      <td>215</td>\n",
              "      <td>255</td>\n",
              "      <td>212</td>\n",
              "      <td>255</td>\n",
              "      <td>220</td>\n",
              "      <td>196</td>\n",
              "      <td>0</td>\n",
              "      <td>205</td>\n",
              "      <td>255</td>\n",
              "      <td>226</td>\n",
              "      <td>42</td>\n",
              "      <td>135</td>\n",
              "      <td>160</td>\n",
              "      <td>0</td>\n",
              "      <td>30</td>\n",
              "      <td>80</td>\n",
              "      <td>237</td>\n",
              "      <td>220</td>\n",
              "      <td>60</td>\n",
              "      <td>255</td>\n",
              "      <td>139</td>\n",
              "      <td>139</td>\n",
              "      <td>11</td>\n",
              "      <td>169</td>\n",
              "      <td>0</td>\n",
              "      <td>169</td>\n",
              "      <td>107</td>\n",
              "      <td>139</td>\n",
              "      <td>47</td>\n",
              "      <td>0</td>\n",
              "      <td>204</td>\n",
              "      <td>0</td>\n",
              "      <td>122</td>\n",
              "      <td>143</td>\n",
              "      <td>139</td>\n",
              "      <td>79</td>\n",
              "      <td>79</td>\n",
              "      <td>209</td>\n",
              "      <td>211</td>\n",
              "      <td>...</td>\n",
              "      <td>152</td>\n",
              "      <td>238</td>\n",
              "      <td>147</td>\n",
              "      <td>213</td>\n",
              "      <td>185</td>\n",
              "      <td>63</td>\n",
              "      <td>203</td>\n",
              "      <td>221</td>\n",
              "      <td>230</td>\n",
              "      <td>128</td>\n",
              "      <td>0</td>\n",
              "      <td>143</td>\n",
              "      <td>225</td>\n",
              "      <td>19</td>\n",
              "      <td>114</td>\n",
              "      <td>96</td>\n",
              "      <td>87</td>\n",
              "      <td>238</td>\n",
              "      <td>45</td>\n",
              "      <td>192</td>\n",
              "      <td>235</td>\n",
              "      <td>205</td>\n",
              "      <td>144</td>\n",
              "      <td>144</td>\n",
              "      <td>250</td>\n",
              "      <td>127</td>\n",
              "      <td>180</td>\n",
              "      <td>140</td>\n",
              "      <td>128</td>\n",
              "      <td>216</td>\n",
              "      <td>71</td>\n",
              "      <td>0</td>\n",
              "      <td>208</td>\n",
              "      <td>238</td>\n",
              "      <td>179</td>\n",
              "      <td>255</td>\n",
              "      <td>245</td>\n",
              "      <td>0</td>\n",
              "      <td>50</td>\n",
              "      <td>153</td>\n",
              "    </tr>\n",
              "    <tr>\n",
              "      <th>3</th>\n",
              "      <td>1</td>\n",
              "      <td>1</td>\n",
              "      <td>1</td>\n",
              "      <td>1</td>\n",
              "      <td>1</td>\n",
              "      <td>1</td>\n",
              "      <td>1</td>\n",
              "      <td>1</td>\n",
              "      <td>1</td>\n",
              "      <td>1</td>\n",
              "      <td>1</td>\n",
              "      <td>1</td>\n",
              "      <td>1</td>\n",
              "      <td>1</td>\n",
              "      <td>1</td>\n",
              "      <td>1</td>\n",
              "      <td>1</td>\n",
              "      <td>1</td>\n",
              "      <td>1</td>\n",
              "      <td>1</td>\n",
              "      <td>1</td>\n",
              "      <td>1</td>\n",
              "      <td>1</td>\n",
              "      <td>1</td>\n",
              "      <td>1</td>\n",
              "      <td>1</td>\n",
              "      <td>1</td>\n",
              "      <td>1</td>\n",
              "      <td>1</td>\n",
              "      <td>1</td>\n",
              "      <td>1</td>\n",
              "      <td>1</td>\n",
              "      <td>1</td>\n",
              "      <td>1</td>\n",
              "      <td>1</td>\n",
              "      <td>1</td>\n",
              "      <td>1</td>\n",
              "      <td>1</td>\n",
              "      <td>1</td>\n",
              "      <td>1</td>\n",
              "      <td>...</td>\n",
              "      <td>1</td>\n",
              "      <td>1</td>\n",
              "      <td>1</td>\n",
              "      <td>1</td>\n",
              "      <td>1</td>\n",
              "      <td>1</td>\n",
              "      <td>1</td>\n",
              "      <td>1</td>\n",
              "      <td>1</td>\n",
              "      <td>1</td>\n",
              "      <td>1</td>\n",
              "      <td>1</td>\n",
              "      <td>1</td>\n",
              "      <td>1</td>\n",
              "      <td>1</td>\n",
              "      <td>1</td>\n",
              "      <td>1</td>\n",
              "      <td>1</td>\n",
              "      <td>1</td>\n",
              "      <td>1</td>\n",
              "      <td>1</td>\n",
              "      <td>1</td>\n",
              "      <td>1</td>\n",
              "      <td>1</td>\n",
              "      <td>1</td>\n",
              "      <td>1</td>\n",
              "      <td>1</td>\n",
              "      <td>1</td>\n",
              "      <td>1</td>\n",
              "      <td>1</td>\n",
              "      <td>1</td>\n",
              "      <td>0</td>\n",
              "      <td>1</td>\n",
              "      <td>1</td>\n",
              "      <td>1</td>\n",
              "      <td>1</td>\n",
              "      <td>1</td>\n",
              "      <td>1</td>\n",
              "      <td>1</td>\n",
              "      <td>1</td>\n",
              "    </tr>\n",
              "  </tbody>\n",
              "</table>\n",
              "<p>4 rows × 149 columns</p>\n",
              "</div>"
            ],
            "text/plain": [
              "   aliceblue  antiquewhite  aqua  ...  yellow  yellowgreen  rebeccapurple\n",
              "0        240           250     0  ...     255          154            102\n",
              "1        248           235   255  ...     255          205             51\n",
              "2        255           215   255  ...       0           50            153\n",
              "3          1             1     1  ...       1            1              1\n",
              "\n",
              "[4 rows x 149 columns]"
            ]
          },
          "metadata": {
            "tags": []
          },
          "execution_count": 5
        }
      ]
    },
    {
      "cell_type": "markdown",
      "metadata": {
        "id": "9S9mLpZTftdp",
        "colab_type": "text"
      },
      "source": [
        "A veces puede pasar que el DataFrame se genere de una manera que no nos sirva. Por ejemplo en este caso, la carga de este JSON ejemplo de colores, nos genera una columna para cada color, y como fila, cada uno de los valores para R G B. Claramente, debería ser al revés: un registro para cada color, y como columnas, los valores de rojo, verde y azul correspondientes. \n",
        "\n",
        "Podemos usar el método **transpose()** para convertir filas en columnas, y viceversa. "
      ]
    },
    {
      "cell_type": "code",
      "metadata": {
        "id": "S6QGe4ujbkKy",
        "colab_type": "code",
        "colab": {
          "base_uri": "https://localhost:8080/",
          "height": 419
        },
        "outputId": "04c42951-b51d-4b5b-a280-e065580477ea"
      },
      "source": [
        "df_colores_final = df_colores.transpose()\n",
        "df_colores_final"
      ],
      "execution_count": 6,
      "outputs": [
        {
          "output_type": "execute_result",
          "data": {
            "text/html": [
              "<div>\n",
              "<style scoped>\n",
              "    .dataframe tbody tr th:only-of-type {\n",
              "        vertical-align: middle;\n",
              "    }\n",
              "\n",
              "    .dataframe tbody tr th {\n",
              "        vertical-align: top;\n",
              "    }\n",
              "\n",
              "    .dataframe thead th {\n",
              "        text-align: right;\n",
              "    }\n",
              "</style>\n",
              "<table border=\"1\" class=\"dataframe\">\n",
              "  <thead>\n",
              "    <tr style=\"text-align: right;\">\n",
              "      <th></th>\n",
              "      <th>0</th>\n",
              "      <th>1</th>\n",
              "      <th>2</th>\n",
              "      <th>3</th>\n",
              "    </tr>\n",
              "  </thead>\n",
              "  <tbody>\n",
              "    <tr>\n",
              "      <th>aliceblue</th>\n",
              "      <td>240</td>\n",
              "      <td>248</td>\n",
              "      <td>255</td>\n",
              "      <td>1</td>\n",
              "    </tr>\n",
              "    <tr>\n",
              "      <th>antiquewhite</th>\n",
              "      <td>250</td>\n",
              "      <td>235</td>\n",
              "      <td>215</td>\n",
              "      <td>1</td>\n",
              "    </tr>\n",
              "    <tr>\n",
              "      <th>aqua</th>\n",
              "      <td>0</td>\n",
              "      <td>255</td>\n",
              "      <td>255</td>\n",
              "      <td>1</td>\n",
              "    </tr>\n",
              "    <tr>\n",
              "      <th>aquamarine</th>\n",
              "      <td>127</td>\n",
              "      <td>255</td>\n",
              "      <td>212</td>\n",
              "      <td>1</td>\n",
              "    </tr>\n",
              "    <tr>\n",
              "      <th>azure</th>\n",
              "      <td>240</td>\n",
              "      <td>255</td>\n",
              "      <td>255</td>\n",
              "      <td>1</td>\n",
              "    </tr>\n",
              "    <tr>\n",
              "      <th>...</th>\n",
              "      <td>...</td>\n",
              "      <td>...</td>\n",
              "      <td>...</td>\n",
              "      <td>...</td>\n",
              "    </tr>\n",
              "    <tr>\n",
              "      <th>white</th>\n",
              "      <td>255</td>\n",
              "      <td>255</td>\n",
              "      <td>255</td>\n",
              "      <td>1</td>\n",
              "    </tr>\n",
              "    <tr>\n",
              "      <th>whitesmoke</th>\n",
              "      <td>245</td>\n",
              "      <td>245</td>\n",
              "      <td>245</td>\n",
              "      <td>1</td>\n",
              "    </tr>\n",
              "    <tr>\n",
              "      <th>yellow</th>\n",
              "      <td>255</td>\n",
              "      <td>255</td>\n",
              "      <td>0</td>\n",
              "      <td>1</td>\n",
              "    </tr>\n",
              "    <tr>\n",
              "      <th>yellowgreen</th>\n",
              "      <td>154</td>\n",
              "      <td>205</td>\n",
              "      <td>50</td>\n",
              "      <td>1</td>\n",
              "    </tr>\n",
              "    <tr>\n",
              "      <th>rebeccapurple</th>\n",
              "      <td>102</td>\n",
              "      <td>51</td>\n",
              "      <td>153</td>\n",
              "      <td>1</td>\n",
              "    </tr>\n",
              "  </tbody>\n",
              "</table>\n",
              "<p>149 rows × 4 columns</p>\n",
              "</div>"
            ],
            "text/plain": [
              "                 0    1    2  3\n",
              "aliceblue      240  248  255  1\n",
              "antiquewhite   250  235  215  1\n",
              "aqua             0  255  255  1\n",
              "aquamarine     127  255  212  1\n",
              "azure          240  255  255  1\n",
              "...            ...  ...  ... ..\n",
              "white          255  255  255  1\n",
              "whitesmoke     245  245  245  1\n",
              "yellow         255  255    0  1\n",
              "yellowgreen    154  205   50  1\n",
              "rebeccapurple  102   51  153  1\n",
              "\n",
              "[149 rows x 4 columns]"
            ]
          },
          "metadata": {
            "tags": []
          },
          "execution_count": 6
        }
      ]
    },
    {
      "cell_type": "code",
      "metadata": {
        "id": "KMenICApflA1",
        "colab_type": "code",
        "colab": {}
      },
      "source": [
        ""
      ],
      "execution_count": 0,
      "outputs": []
    },
    {
      "cell_type": "markdown",
      "metadata": {
        "id": "9J5OBz_HNHTg",
        "colab_type": "text"
      },
      "source": [
        "## **Características y Métodos generales de un DataFrame**"
      ]
    },
    {
      "cell_type": "markdown",
      "metadata": {
        "id": "G2X3gztQNRPC",
        "colab_type": "text"
      },
      "source": [
        "### Información general del conjunto de datos\n",
        "Invocando al método **info**, podemos ver fácilmente cómo está compuesto el DataFrame"
      ]
    },
    {
      "cell_type": "code",
      "metadata": {
        "id": "BHrS8k-TMjiW",
        "colab_type": "code",
        "colab": {
          "base_uri": "https://localhost:8080/",
          "height": 170
        },
        "outputId": "d6d6dcfd-ace0-461c-f911-b3f561b33b67"
      },
      "source": [
        "df_ing_egr.info()"
      ],
      "execution_count": 7,
      "outputs": [
        {
          "output_type": "stream",
          "text": [
            "<class 'pandas.core.frame.DataFrame'>\n",
            "RangeIndex: 100 entries, 0 to 99\n",
            "Data columns (total 2 columns):\n",
            " #   Column      Non-Null Count  Dtype \n",
            "---  ------      --------------  ----- \n",
            " 0   PASO_CRUCE  100 non-null    object\n",
            " 1   CANTIDAD    100 non-null    int64 \n",
            "dtypes: int64(1), object(1)\n",
            "memory usage: 1.7+ KB\n"
          ],
          "name": "stdout"
        }
      ]
    },
    {
      "cell_type": "markdown",
      "metadata": {
        "id": "Ihg0gmt7NdK3",
        "colab_type": "text"
      },
      "source": [
        "En este caso podemos observar que el DataFrame tiene 2 columnas, una para conocer el Paso o Cruce, y en la otra (de tipo int64), conocemos la cantidad de personas que cruzaron por esa vía."
      ]
    },
    {
      "cell_type": "markdown",
      "metadata": {
        "id": "6jsO7oq1Ns2a",
        "colab_type": "text"
      },
      "source": [
        "### **Ejercicio**\n",
        "\n",
        "¿Qué devuelve el atributo **columns**?\n",
        "\n",
        "Probalo en las siguiente celda de código!"
      ]
    },
    {
      "cell_type": "code",
      "metadata": {
        "id": "DhgAkqeTN5F3",
        "colab_type": "code",
        "colab": {}
      },
      "source": [
        ""
      ],
      "execution_count": 0,
      "outputs": []
    },
    {
      "cell_type": "markdown",
      "metadata": {
        "id": "CbdYnSbQO7wz",
        "colab_type": "text"
      },
      "source": [
        "Respuesta: "
      ]
    },
    {
      "cell_type": "markdown",
      "metadata": {
        "id": "LwkZM4eXYYVe",
        "colab_type": "text"
      },
      "source": [
        "### El método describe()\n",
        "\n",
        "describe() nos proporcionará información general importante de un DataFrame respecto a los valores que contiene. \n",
        "\n",
        "**Funciona únicamente sobre columnas que contienen datos numéricos.**\n",
        "\n",
        "Previo a esto, podemos utilizar una funcionalidad de pandas llamada set_option, para setear los resultados que muestra el describe con solo dos decimales."
      ]
    },
    {
      "cell_type": "code",
      "metadata": {
        "id": "vzFnsRWeYoKF",
        "colab_type": "code",
        "colab": {
          "base_uri": "https://localhost:8080/",
          "height": 297
        },
        "outputId": "da1f7df4-026a-48cd-fc2f-48e6ab641e50"
      },
      "source": [
        "pd.set_option('float_format', '{:,.2f}'.format)\n",
        "df_ing_egr.describe()"
      ],
      "execution_count": 8,
      "outputs": [
        {
          "output_type": "execute_result",
          "data": {
            "text/html": [
              "<div>\n",
              "<style scoped>\n",
              "    .dataframe tbody tr th:only-of-type {\n",
              "        vertical-align: middle;\n",
              "    }\n",
              "\n",
              "    .dataframe tbody tr th {\n",
              "        vertical-align: top;\n",
              "    }\n",
              "\n",
              "    .dataframe thead th {\n",
              "        text-align: right;\n",
              "    }\n",
              "</style>\n",
              "<table border=\"1\" class=\"dataframe\">\n",
              "  <thead>\n",
              "    <tr style=\"text-align: right;\">\n",
              "      <th></th>\n",
              "      <th>CANTIDAD</th>\n",
              "    </tr>\n",
              "  </thead>\n",
              "  <tbody>\n",
              "    <tr>\n",
              "      <th>count</th>\n",
              "      <td>100.00</td>\n",
              "    </tr>\n",
              "    <tr>\n",
              "      <th>mean</th>\n",
              "      <td>169,644.89</td>\n",
              "    </tr>\n",
              "    <tr>\n",
              "      <th>std</th>\n",
              "      <td>469,530.00</td>\n",
              "    </tr>\n",
              "    <tr>\n",
              "      <th>min</th>\n",
              "      <td>1,970.00</td>\n",
              "    </tr>\n",
              "    <tr>\n",
              "      <th>25%</th>\n",
              "      <td>6,321.00</td>\n",
              "    </tr>\n",
              "    <tr>\n",
              "      <th>50%</th>\n",
              "      <td>30,776.00</td>\n",
              "    </tr>\n",
              "    <tr>\n",
              "      <th>75%</th>\n",
              "      <td>87,331.00</td>\n",
              "    </tr>\n",
              "    <tr>\n",
              "      <th>max</th>\n",
              "      <td>2,949,664.00</td>\n",
              "    </tr>\n",
              "  </tbody>\n",
              "</table>\n",
              "</div>"
            ],
            "text/plain": [
              "          CANTIDAD\n",
              "count       100.00\n",
              "mean    169,644.89\n",
              "std     469,530.00\n",
              "min       1,970.00\n",
              "25%       6,321.00\n",
              "50%      30,776.00\n",
              "75%      87,331.00\n",
              "max   2,949,664.00"
            ]
          },
          "metadata": {
            "tags": []
          },
          "execution_count": 8
        }
      ]
    },
    {
      "cell_type": "markdown",
      "metadata": {
        "id": "59mKOhKVOWS0",
        "colab_type": "text"
      },
      "source": [
        "### Longitud (en cantidad de registros) de un DataFrame\n",
        "\n",
        "Podemos visualizar la cantidad de registros que tiene un DataFrame, con la función **len**"
      ]
    },
    {
      "cell_type": "code",
      "metadata": {
        "id": "58qBUAlWPekO",
        "colab_type": "code",
        "colab": {
          "base_uri": "https://localhost:8080/",
          "height": 34
        },
        "outputId": "6c4bc974-9f88-47ed-f1de-27b70b1f590e"
      },
      "source": [
        "print(\"Cantidad de registros en el DataFrame: \",len(df_ing_egr))"
      ],
      "execution_count": 9,
      "outputs": [
        {
          "output_type": "stream",
          "text": [
            "Cantidad de registros en el DataFrame:  100\n"
          ],
          "name": "stdout"
        }
      ]
    },
    {
      "cell_type": "markdown",
      "metadata": {
        "id": "xQXlmvuJVB1E",
        "colab_type": "text"
      },
      "source": [
        "### Acceso a una o varias posiciones de un DataFrame\n",
        "\n",
        "Como con todo array (o vector dinámico), en un DataFrame es posible acceder a una posición puntual con el método **iloc**, recibiendo entre doble corchete, el valor del índice del registro deseado."
      ]
    },
    {
      "cell_type": "code",
      "metadata": {
        "id": "3BcLvJidVJ6P",
        "colab_type": "code",
        "colab": {
          "base_uri": "https://localhost:8080/",
          "height": 80
        },
        "outputId": "e69c116d-1ffa-4195-b685-d7a245b99c8d"
      },
      "source": [
        "df_ing_egr.iloc[[50]]"
      ],
      "execution_count": 10,
      "outputs": [
        {
          "output_type": "execute_result",
          "data": {
            "text/html": [
              "<div>\n",
              "<style scoped>\n",
              "    .dataframe tbody tr th:only-of-type {\n",
              "        vertical-align: middle;\n",
              "    }\n",
              "\n",
              "    .dataframe tbody tr th {\n",
              "        vertical-align: top;\n",
              "    }\n",
              "\n",
              "    .dataframe thead th {\n",
              "        text-align: right;\n",
              "    }\n",
              "</style>\n",
              "<table border=\"1\" class=\"dataframe\">\n",
              "  <thead>\n",
              "    <tr style=\"text-align: right;\">\n",
              "      <th></th>\n",
              "      <th>PASO_CRUCE</th>\n",
              "      <th>CANTIDAD</th>\n",
              "    </tr>\n",
              "  </thead>\n",
              "  <tbody>\n",
              "    <tr>\n",
              "      <th>50</th>\n",
              "      <td>PUERTO IGUAZU - TRES FRONTERAS</td>\n",
              "      <td>28555</td>\n",
              "    </tr>\n",
              "  </tbody>\n",
              "</table>\n",
              "</div>"
            ],
            "text/plain": [
              "                        PASO_CRUCE  CANTIDAD\n",
              "50  PUERTO IGUAZU - TRES FRONTERAS     28555"
            ]
          },
          "metadata": {
            "tags": []
          },
          "execution_count": 10
        }
      ]
    },
    {
      "cell_type": "markdown",
      "metadata": {
        "id": "9d82cDPpWG1b",
        "colab_type": "text"
      },
      "source": [
        "Como variación de funcionamiento de iloc, podemos pasarle entre solo un par de corchetes, un conjunto de registros en específico a obtener"
      ]
    },
    {
      "cell_type": "code",
      "metadata": {
        "id": "X-7DUzpAXJXJ",
        "colab_type": "code",
        "colab": {
          "base_uri": "https://localhost:8080/",
          "height": 173
        },
        "outputId": "e7763d2f-1d5b-4e93-aeef-b31335813be4"
      },
      "source": [
        "df_ing_egr.iloc[6:10] #Observá que el máximo no está incluido en el resultado"
      ],
      "execution_count": 11,
      "outputs": [
        {
          "output_type": "execute_result",
          "data": {
            "text/html": [
              "<div>\n",
              "<style scoped>\n",
              "    .dataframe tbody tr th:only-of-type {\n",
              "        vertical-align: middle;\n",
              "    }\n",
              "\n",
              "    .dataframe tbody tr th {\n",
              "        vertical-align: top;\n",
              "    }\n",
              "\n",
              "    .dataframe thead th {\n",
              "        text-align: right;\n",
              "    }\n",
              "</style>\n",
              "<table border=\"1\" class=\"dataframe\">\n",
              "  <thead>\n",
              "    <tr style=\"text-align: right;\">\n",
              "      <th></th>\n",
              "      <th>PASO_CRUCE</th>\n",
              "      <th>CANTIDAD</th>\n",
              "    </tr>\n",
              "  </thead>\n",
              "  <tbody>\n",
              "    <tr>\n",
              "      <th>6</th>\n",
              "      <td>PUERTO CHALANAS</td>\n",
              "      <td>543288</td>\n",
              "    </tr>\n",
              "    <tr>\n",
              "      <th>7</th>\n",
              "      <td>PTE. SAN IGNACIO DE LOYOLA</td>\n",
              "      <td>490759</td>\n",
              "    </tr>\n",
              "    <tr>\n",
              "      <th>8</th>\n",
              "      <td>GUALEGUAYCHU - FRAY BENTOS</td>\n",
              "      <td>421207</td>\n",
              "    </tr>\n",
              "    <tr>\n",
              "      <th>9</th>\n",
              "      <td>PTE. INT. SALTO GRANDE</td>\n",
              "      <td>400321</td>\n",
              "    </tr>\n",
              "  </tbody>\n",
              "</table>\n",
              "</div>"
            ],
            "text/plain": [
              "                   PASO_CRUCE  CANTIDAD\n",
              "6             PUERTO CHALANAS    543288\n",
              "7  PTE. SAN IGNACIO DE LOYOLA    490759\n",
              "8  GUALEGUAYCHU - FRAY BENTOS    421207\n",
              "9      PTE. INT. SALTO GRANDE    400321"
            ]
          },
          "metadata": {
            "tags": []
          },
          "execution_count": 11
        }
      ]
    },
    {
      "cell_type": "markdown",
      "metadata": {
        "id": "nw-8Dpm0P3KU",
        "colab_type": "text"
      },
      "source": [
        "## **Selecciones**\n",
        "Al igual que como trabajamos hace unos meses sobre una base de datos SQL, cuando leemos datos desde un DataFrame podemos realizar selecciones de registros con ciertas propiedadaes, filtros y restricciones. "
      ]
    },
    {
      "cell_type": "markdown",
      "metadata": {
        "id": "h9GzudLYPeuf",
        "colab_type": "text"
      },
      "source": [
        "### Visualización general de datos del Dataframe"
      ]
    },
    {
      "cell_type": "markdown",
      "metadata": {
        "id": "f7Op98GDPFjR",
        "colab_type": "text"
      },
      "source": [
        "Podemos obtener registros específicos de un dataframe de varias maneras."
      ]
    },
    {
      "cell_type": "markdown",
      "metadata": {
        "id": "I6qujrsDPPcb",
        "colab_type": "text"
      },
      "source": [
        "Con **head(n)** y **tail(n)** podemos ver los **n** primeros y últimos (respectivamente) registros del dataframe\n",
        "\n",
        "Si dejamos vacío el valor de n, los métodos nos mostrarán **5** valores"
      ]
    },
    {
      "cell_type": "code",
      "metadata": {
        "id": "q57Q5n-9POHZ",
        "colab_type": "code",
        "colab": {
          "base_uri": "https://localhost:8080/",
          "height": 204
        },
        "outputId": "009d7593-c1cd-4d2a-ec6c-dbfc53ab94b6"
      },
      "source": [
        "df_ing_egr.head()"
      ],
      "execution_count": 12,
      "outputs": [
        {
          "output_type": "execute_result",
          "data": {
            "text/html": [
              "<div>\n",
              "<style scoped>\n",
              "    .dataframe tbody tr th:only-of-type {\n",
              "        vertical-align: middle;\n",
              "    }\n",
              "\n",
              "    .dataframe tbody tr th {\n",
              "        vertical-align: top;\n",
              "    }\n",
              "\n",
              "    .dataframe thead th {\n",
              "        text-align: right;\n",
              "    }\n",
              "</style>\n",
              "<table border=\"1\" class=\"dataframe\">\n",
              "  <thead>\n",
              "    <tr style=\"text-align: right;\">\n",
              "      <th></th>\n",
              "      <th>PASO_CRUCE</th>\n",
              "      <th>CANTIDAD</th>\n",
              "    </tr>\n",
              "  </thead>\n",
              "  <tbody>\n",
              "    <tr>\n",
              "      <th>0</th>\n",
              "      <td>AERO EZEIZA</td>\n",
              "      <td>2949664</td>\n",
              "    </tr>\n",
              "    <tr>\n",
              "      <th>1</th>\n",
              "      <td>PTE. INT. TANCREDO NEVES</td>\n",
              "      <td>2765577</td>\n",
              "    </tr>\n",
              "    <tr>\n",
              "      <th>2</th>\n",
              "      <td>PTE. SAN ROQUE GONZALEZ DE SAN</td>\n",
              "      <td>2202025</td>\n",
              "    </tr>\n",
              "    <tr>\n",
              "      <th>3</th>\n",
              "      <td>SALVADOR MAZZA - YACUIBA</td>\n",
              "      <td>923252</td>\n",
              "    </tr>\n",
              "    <tr>\n",
              "      <th>4</th>\n",
              "      <td>PASO DE LOS LIBRES</td>\n",
              "      <td>880025</td>\n",
              "    </tr>\n",
              "  </tbody>\n",
              "</table>\n",
              "</div>"
            ],
            "text/plain": [
              "                       PASO_CRUCE  CANTIDAD\n",
              "0                     AERO EZEIZA   2949664\n",
              "1        PTE. INT. TANCREDO NEVES   2765577\n",
              "2  PTE. SAN ROQUE GONZALEZ DE SAN   2202025\n",
              "3        SALVADOR MAZZA - YACUIBA    923252\n",
              "4              PASO DE LOS LIBRES    880025"
            ]
          },
          "metadata": {
            "tags": []
          },
          "execution_count": 12
        }
      ]
    },
    {
      "cell_type": "code",
      "metadata": {
        "id": "m9GH8XPaP5zH",
        "colab_type": "code",
        "colab": {
          "base_uri": "https://localhost:8080/",
          "height": 111
        },
        "outputId": "d979a28b-e8d0-4873-d12c-4bb917f40765"
      },
      "source": [
        "df_ing_egr.head(2)"
      ],
      "execution_count": 13,
      "outputs": [
        {
          "output_type": "execute_result",
          "data": {
            "text/html": [
              "<div>\n",
              "<style scoped>\n",
              "    .dataframe tbody tr th:only-of-type {\n",
              "        vertical-align: middle;\n",
              "    }\n",
              "\n",
              "    .dataframe tbody tr th {\n",
              "        vertical-align: top;\n",
              "    }\n",
              "\n",
              "    .dataframe thead th {\n",
              "        text-align: right;\n",
              "    }\n",
              "</style>\n",
              "<table border=\"1\" class=\"dataframe\">\n",
              "  <thead>\n",
              "    <tr style=\"text-align: right;\">\n",
              "      <th></th>\n",
              "      <th>PASO_CRUCE</th>\n",
              "      <th>CANTIDAD</th>\n",
              "    </tr>\n",
              "  </thead>\n",
              "  <tbody>\n",
              "    <tr>\n",
              "      <th>0</th>\n",
              "      <td>AERO EZEIZA</td>\n",
              "      <td>2949664</td>\n",
              "    </tr>\n",
              "    <tr>\n",
              "      <th>1</th>\n",
              "      <td>PTE. INT. TANCREDO NEVES</td>\n",
              "      <td>2765577</td>\n",
              "    </tr>\n",
              "  </tbody>\n",
              "</table>\n",
              "</div>"
            ],
            "text/plain": [
              "                 PASO_CRUCE  CANTIDAD\n",
              "0               AERO EZEIZA   2949664\n",
              "1  PTE. INT. TANCREDO NEVES   2765577"
            ]
          },
          "metadata": {
            "tags": []
          },
          "execution_count": 13
        }
      ]
    },
    {
      "cell_type": "code",
      "metadata": {
        "id": "rrn6HFi8P78r",
        "colab_type": "code",
        "colab": {
          "base_uri": "https://localhost:8080/",
          "height": 359
        },
        "outputId": "f6909a37-6311-4b4f-f4c9-cbc978b11d30"
      },
      "source": [
        "df_ing_egr.tail(10)"
      ],
      "execution_count": 14,
      "outputs": [
        {
          "output_type": "execute_result",
          "data": {
            "text/html": [
              "<div>\n",
              "<style scoped>\n",
              "    .dataframe tbody tr th:only-of-type {\n",
              "        vertical-align: middle;\n",
              "    }\n",
              "\n",
              "    .dataframe tbody tr th {\n",
              "        vertical-align: top;\n",
              "    }\n",
              "\n",
              "    .dataframe thead th {\n",
              "        text-align: right;\n",
              "    }\n",
              "</style>\n",
              "<table border=\"1\" class=\"dataframe\">\n",
              "  <thead>\n",
              "    <tr style=\"text-align: right;\">\n",
              "      <th></th>\n",
              "      <th>PASO_CRUCE</th>\n",
              "      <th>CANTIDAD</th>\n",
              "    </tr>\n",
              "  </thead>\n",
              "  <tbody>\n",
              "    <tr>\n",
              "      <th>90</th>\n",
              "      <td>PASO AGUA NEGRA</td>\n",
              "      <td>2776</td>\n",
              "    </tr>\n",
              "    <tr>\n",
              "      <th>91</th>\n",
              "      <td>PUERTO OLIVOS</td>\n",
              "      <td>2682</td>\n",
              "    </tr>\n",
              "    <tr>\n",
              "      <th>92</th>\n",
              "      <td>PUERTO YAHAPE</td>\n",
              "      <td>2494</td>\n",
              "    </tr>\n",
              "    <tr>\n",
              "      <th>93</th>\n",
              "      <td>PUERTO ISLA MARTIN GARCIA</td>\n",
              "      <td>2354</td>\n",
              "    </tr>\n",
              "    <tr>\n",
              "      <th>94</th>\n",
              "      <td>ING. PALLAVICINI - IBAÑEZ</td>\n",
              "      <td>2248</td>\n",
              "    </tr>\n",
              "    <tr>\n",
              "      <th>95</th>\n",
              "      <td>PASO SICO</td>\n",
              "      <td>2236</td>\n",
              "    </tr>\n",
              "    <tr>\n",
              "      <th>96</th>\n",
              "      <td>AERO PUBLICO DE USHUAIA</td>\n",
              "      <td>2127</td>\n",
              "    </tr>\n",
              "    <tr>\n",
              "      <th>97</th>\n",
              "      <td>PUERTO LIBERTAD</td>\n",
              "      <td>2083</td>\n",
              "    </tr>\n",
              "    <tr>\n",
              "      <th>98</th>\n",
              "      <td>PUERTO OASIS</td>\n",
              "      <td>2025</td>\n",
              "    </tr>\n",
              "    <tr>\n",
              "      <th>99</th>\n",
              "      <td>PUERTO SANTA ANA</td>\n",
              "      <td>1970</td>\n",
              "    </tr>\n",
              "  </tbody>\n",
              "</table>\n",
              "</div>"
            ],
            "text/plain": [
              "                   PASO_CRUCE  CANTIDAD\n",
              "90            PASO AGUA NEGRA      2776\n",
              "91              PUERTO OLIVOS      2682\n",
              "92              PUERTO YAHAPE      2494\n",
              "93  PUERTO ISLA MARTIN GARCIA      2354\n",
              "94  ING. PALLAVICINI - IBAÑEZ      2248\n",
              "95                  PASO SICO      2236\n",
              "96    AERO PUBLICO DE USHUAIA      2127\n",
              "97            PUERTO LIBERTAD      2083\n",
              "98               PUERTO OASIS      2025\n",
              "99           PUERTO SANTA ANA      1970"
            ]
          },
          "metadata": {
            "tags": []
          },
          "execution_count": 14
        }
      ]
    },
    {
      "cell_type": "markdown",
      "metadata": {
        "id": "RxtLOBfEQsd3",
        "colab_type": "text"
      },
      "source": [
        "En caso de necesitarlo, podemos obtener un array con todos los valores de una sola columna, invocando a la columna como atributo del DataFrame"
      ]
    },
    {
      "cell_type": "code",
      "metadata": {
        "id": "etMVgE2HQ1KY",
        "colab_type": "code",
        "colab": {
          "base_uri": "https://localhost:8080/",
          "height": 221
        },
        "outputId": "6861a09e-6d8c-4dec-d0dd-b5c41630baa1"
      },
      "source": [
        "paso_cruce = df_ing_egr.PASO_CRUCE\n",
        "paso_cruce"
      ],
      "execution_count": 15,
      "outputs": [
        {
          "output_type": "execute_result",
          "data": {
            "text/plain": [
              "0                        AERO EZEIZA\n",
              "1           PTE. INT. TANCREDO NEVES\n",
              "2     PTE. SAN ROQUE GONZALEZ DE SAN\n",
              "3           SALVADOR MAZZA - YACUIBA\n",
              "4                 PASO DE LOS LIBRES\n",
              "                   ...              \n",
              "95                         PASO SICO\n",
              "96           AERO PUBLICO DE USHUAIA\n",
              "97                   PUERTO LIBERTAD\n",
              "98                      PUERTO OASIS\n",
              "99                  PUERTO SANTA ANA\n",
              "Name: PASO_CRUCE, Length: 100, dtype: object"
            ]
          },
          "metadata": {
            "tags": []
          },
          "execution_count": 15
        }
      ]
    },
    {
      "cell_type": "markdown",
      "metadata": {
        "id": "1E58NQCSQPyN",
        "colab_type": "text"
      },
      "source": [
        "### Ordenamiento\n",
        "Pandas provee el método **sort_values()**, que me permite ordenar los resultados de una \"consulta\" por los criterios que querramos.\n",
        "\n",
        "Pueden ser varios los parámetros a enviar, en principio utilizaremos como primer parámetro las columnas a ordenar, y como segundo, si queremos que sea ascendente (ascending=True) o descendente (ascending=False)"
      ]
    },
    {
      "cell_type": "code",
      "metadata": {
        "id": "IZ_UREb_RrOz",
        "colab_type": "code",
        "colab": {
          "base_uri": "https://localhost:8080/",
          "height": 204
        },
        "outputId": "a68d81d8-d681-4539-e2b8-5457b8e25029"
      },
      "source": [
        "cruces_ordenados = df_ing_egr.sort_values(\"CANTIDAD\",ascending=False)\n",
        "cruces_ordenados.head()"
      ],
      "execution_count": 16,
      "outputs": [
        {
          "output_type": "execute_result",
          "data": {
            "text/html": [
              "<div>\n",
              "<style scoped>\n",
              "    .dataframe tbody tr th:only-of-type {\n",
              "        vertical-align: middle;\n",
              "    }\n",
              "\n",
              "    .dataframe tbody tr th {\n",
              "        vertical-align: top;\n",
              "    }\n",
              "\n",
              "    .dataframe thead th {\n",
              "        text-align: right;\n",
              "    }\n",
              "</style>\n",
              "<table border=\"1\" class=\"dataframe\">\n",
              "  <thead>\n",
              "    <tr style=\"text-align: right;\">\n",
              "      <th></th>\n",
              "      <th>PASO_CRUCE</th>\n",
              "      <th>CANTIDAD</th>\n",
              "    </tr>\n",
              "  </thead>\n",
              "  <tbody>\n",
              "    <tr>\n",
              "      <th>0</th>\n",
              "      <td>AERO EZEIZA</td>\n",
              "      <td>2949664</td>\n",
              "    </tr>\n",
              "    <tr>\n",
              "      <th>1</th>\n",
              "      <td>PTE. INT. TANCREDO NEVES</td>\n",
              "      <td>2765577</td>\n",
              "    </tr>\n",
              "    <tr>\n",
              "      <th>2</th>\n",
              "      <td>PTE. SAN ROQUE GONZALEZ DE SAN</td>\n",
              "      <td>2202025</td>\n",
              "    </tr>\n",
              "    <tr>\n",
              "      <th>3</th>\n",
              "      <td>SALVADOR MAZZA - YACUIBA</td>\n",
              "      <td>923252</td>\n",
              "    </tr>\n",
              "    <tr>\n",
              "      <th>4</th>\n",
              "      <td>PASO DE LOS LIBRES</td>\n",
              "      <td>880025</td>\n",
              "    </tr>\n",
              "  </tbody>\n",
              "</table>\n",
              "</div>"
            ],
            "text/plain": [
              "                       PASO_CRUCE  CANTIDAD\n",
              "0                     AERO EZEIZA   2949664\n",
              "1        PTE. INT. TANCREDO NEVES   2765577\n",
              "2  PTE. SAN ROQUE GONZALEZ DE SAN   2202025\n",
              "3        SALVADOR MAZZA - YACUIBA    923252\n",
              "4              PASO DE LOS LIBRES    880025"
            ]
          },
          "metadata": {
            "tags": []
          },
          "execution_count": 16
        }
      ]
    },
    {
      "cell_type": "markdown",
      "metadata": {
        "id": "8QfYhfz4US0J",
        "colab_type": "text"
      },
      "source": [
        "sort_values **devuelve un nuevo DataFrame** que guardamos en *cruces_ordenados*, y sobre este último invocamos el método **head()** para ver los 5 cruces con más afluencia de gente."
      ]
    },
    {
      "cell_type": "markdown",
      "metadata": {
        "id": "pEcGtAH2QYNV",
        "colab_type": "text"
      },
      "source": [
        "## Graficando datos con Pandas"
      ]
    },
    {
      "cell_type": "markdown",
      "metadata": {
        "id": "B4-8HfAnhgrd",
        "colab_type": "text"
      },
      "source": [
        "Podemos hacer un gráfico de barras invocando a **plot.bar()**\n",
        "Este método lo provee Pandas. No es necesario invocar a pyplot. \n",
        "\n",
        "En todos los próximos gráficos utilizaremos primeros_veinte, un DataFrame que solo guarda los primeros 20 cruces o pasos más concurridos"
      ]
    },
    {
      "cell_type": "code",
      "metadata": {
        "id": "-0N4TbcGpNew",
        "colab_type": "code",
        "colab": {}
      },
      "source": [
        "primeros_veinte = cruces_ordenados.head(20)"
      ],
      "execution_count": 0,
      "outputs": []
    },
    {
      "cell_type": "code",
      "metadata": {
        "id": "Qt8eWjdLkmDr",
        "colab_type": "code",
        "colab": {
          "base_uri": "https://localhost:8080/",
          "height": 278
        },
        "outputId": "895faa10-bc9e-46db-ba6a-326ab6dfa627"
      },
      "source": [
        "primeros_veinte.plot.barh(\"PASO_CRUCE\",\"CANTIDAD\");"
      ],
      "execution_count": 18,
      "outputs": [
        {
          "output_type": "display_data",
          "data": {
            "image/png": "[encoded data removed]",
            "text/plain": [
              "<Figure size 432x288 with 1 Axes>"
            ]
          },
          "metadata": {
            "tags": [],
            "needs_background": "light"
          }
        }
      ]
    },
    {
      "cell_type": "markdown",
      "metadata": {
        "id": "ZB5LNUoKknB6",
        "colab_type": "text"
      },
      "source": [
        "Se genera correctamente el gráfico pero podemos notar algunas cosas :\n",
        "\n",
        "\n",
        "*   El tamaño del gráfico es relativamente pequeño \n",
        "*   Los pasos o cruces más concurridos aparecen abajo de todo\n",
        "\n",
        "\n",
        "Procedemos entonces a guardar el gráfico de barras en una variable llamada *grafico*. Y luego, invertimos el eje Y con **invert_yaxis()**, para que aparezcan arriba de todo los cruces o pasos más concurridos."
      ]
    },
    {
      "cell_type": "code",
      "metadata": {
        "id": "TVk41Y2thoLH",
        "colab_type": "code",
        "colab": {
          "base_uri": "https://localhost:8080/",
          "height": 605
        },
        "outputId": "28bf5956-4755-4cf3-dc24-3641748dfd14"
      },
      "source": [
        "grafico = primeros_veinte.plot.barh(\"PASO_CRUCE\",\"CANTIDAD\",figsize=(20,10));\n",
        "grafico.invert_yaxis()"
      ],
      "execution_count": 19,
      "outputs": [
        {
          "output_type": "display_data",
          "data": {
            "image/png": "[encoded data removed]",
            "text/plain": [
              "<Figure size 1440x720 with 1 Axes>"
            ]
          },
          "metadata": {
            "tags": [],
            "needs_background": "light"
          }
        }
      ]
    },
    {
      "cell_type": "markdown",
      "metadata": {
        "id": "p3beIXMnlGQl",
        "colab_type": "text"
      },
      "source": [
        "Tal vez te diste cuenta (tal vez no) que agregamos un parámetro más a la generación del gráfico que es figsize. Ese parámetro permite modificar el tamaño del gráfico. El primer valor corresponde al ancho, y el segundo al alto. "
      ]
    },
    {
      "cell_type": "markdown",
      "metadata": {
        "id": "IuVQN_oPncy6",
        "colab_type": "text"
      },
      "source": [
        "## Graficando datos con Pyplot"
      ]
    },
    {
      "cell_type": "code",
      "metadata": {
        "id": "nRHDP3VVlcx7",
        "colab_type": "code",
        "colab": {}
      },
      "source": [
        "import matplotlib.pyplot as plt\n"
      ],
      "execution_count": 0,
      "outputs": []
    },
    {
      "cell_type": "code",
      "metadata": {
        "id": "MWuYwdXSlf0u",
        "colab_type": "code",
        "colab": {
          "base_uri": "https://localhost:8080/",
          "height": 282
        },
        "outputId": "4f5fedb3-e780-44c8-f0af-d757b4456ea7"
      },
      "source": [
        "plt.bar(x=primeros_veinte.CANTIDAD,width=primeros_veinte.CANTIDAD, height=primeros_veinte.PASO_CRUCE)\n",
        "plt.gca().invert_yaxis()"
      ],
      "execution_count": 21,
      "outputs": [
        {
          "output_type": "display_data",
          "data": {
            "image/png": "[encoded data removed]",
            "text/plain": [
              "<Figure size 432x288 with 1 Axes>"
            ]
          },
          "metadata": {
            "tags": [],
            "needs_background": "light"
          }
        }
      ]
    },
    {
      "cell_type": "markdown",
      "metadata": {
        "id": "tXG_qCw8njcz",
        "colab_type": "text"
      },
      "source": [
        "## Graficando datos con Seaborn\n",
        "Seaborn es una librería específica para trabajar con Gráficos, y resulta ser más estética que las soluciones anteriores. \n",
        "\n",
        "De hecho, una vez que importemos seaborn en nuestro notebook, los gráficos de Pandas también se verán afectados!!"
      ]
    },
    {
      "cell_type": "markdown",
      "metadata": {
        "id": "emDcGuuSnxkc",
        "colab_type": "text"
      },
      "source": [
        "### Importación de librería"
      ]
    },
    {
      "cell_type": "code",
      "metadata": {
        "id": "8ElU13pQlorx",
        "colab_type": "code",
        "colab": {
          "base_uri": "https://localhost:8080/",
          "height": 51
        },
        "outputId": "3cffe125-62d2-4cf0-e640-3ded73dcf436"
      },
      "source": [
        "import seaborn as sns;"
      ],
      "execution_count": 22,
      "outputs": [
        {
          "output_type": "stream",
          "text": [
            "/usr/local/lib/python3.6/dist-packages/statsmodels/tools/_testing.py:19: FutureWarning: pandas.util.testing is deprecated. Use the functions in the public API at pandas.testing instead.\n",
            "  import pandas.util.testing as tm\n"
          ],
          "name": "stderr"
        }
      ]
    },
    {
      "cell_type": "markdown",
      "metadata": {
        "id": "BPO6LI2Tp1dt",
        "colab_type": "text"
      },
      "source": [
        "### Seteo de propiedades para los gráficos\n",
        "En esta sección, definiremos el estilo de gráfico a utilizar, y el tamaño que tendrá en pantalla. "
      ]
    },
    {
      "cell_type": "code",
      "metadata": {
        "id": "u01E-WZvnw3h",
        "colab_type": "code",
        "colab": {}
      },
      "source": [
        "sns.set(style=\"whitegrid\")\n",
        "sns.set(rc={'figure.figsize':(11.7,8.27)})"
      ],
      "execution_count": 0,
      "outputs": []
    },
    {
      "cell_type": "markdown",
      "metadata": {
        "id": "0ryT1eanqBuV",
        "colab_type": "text"
      },
      "source": [
        "### Generación del gráfico\n",
        "Por último, generamos el gráfico con Seaborn. Las diferencias en la imagen hablan por sí solas"
      ]
    },
    {
      "cell_type": "code",
      "metadata": {
        "id": "MCu6AsyWqJj2",
        "colab_type": "code",
        "colab": {
          "base_uri": "https://localhost:8080/",
          "height": 517
        },
        "outputId": "a044f5fd-f4f6-4347-a890-1d1353efe5d7"
      },
      "source": [
        "grafico = sns.barplot(x=primeros_veinte.CANTIDAD, y=primeros_veinte.PASO_CRUCE, data=primeros_veinte)"
      ],
      "execution_count": 24,
      "outputs": [
        {
          "output_type": "display_data",
          "data": {
            "image/png": "[encoded data removed]",
            "text/plain": [
              "<Figure size 842.4x595.44 with 1 Axes>"
            ]
          },
          "metadata": {
            "tags": []
          }
        }
      ]
    }
  ]
}