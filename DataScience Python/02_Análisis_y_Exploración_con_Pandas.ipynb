{
  "nbformat": 4,
  "nbformat_minor": 0,
  "metadata": {
    "colab": {
      "name": "02 - Análisis y Exploración con Pandas",
      "provenance": []
    },
    "kernelspec": {
      "name": "python3",
      "display_name": "Python 3"
    }
  },
  "cells": [
    {
      "cell_type": "markdown",
      "metadata": {
        "id": "N2iMR8GiFcau",
        "colab_type": "text"
      },
      "source": [
        "# **02 - Análisis y Exploración de datos con Pandas**"
      ]
    },
    {
      "cell_type": "markdown",
      "metadata": {
        "id": "NK_qI9eZFjT0",
        "colab_type": "text"
      },
      "source": [
        "## **La librería Pandas**\n",
        "\n",
        "Es una librería del lenguaje Python cuyo principal objetivo es manipular fácilmente grandes conjuntos de datos, y realizar operaciones y estadísticas sobre los mismos. Se lleva muy bien con las librerías *numpy y pyplot*. Acá, [la documentación oficial](https://pandas.pydata.org/)\n",
        "\n"
      ]
    },
    {
      "cell_type": "markdown",
      "metadata": {
        "id": "4Tb6w09XGpti",
        "colab_type": "text"
      },
      "source": [
        "### Importación de librería\n",
        "Tal cual vimos con las otras librerías, Pandas también tiene un pseudónimo y es **pd**. Así llamaremos a la librería cada vez que necesitemos utilizar alguna de sus funcionalidades"
      ]
    },
    {
      "cell_type": "code",
      "metadata": {
        "id": "syOZHtpAGuhp",
        "colab_type": "code",
        "colab": {}
      },
      "source": [
        "import pandas as pd"
      ],
      "execution_count": 0,
      "outputs": []
    },
    {
      "cell_type": "markdown",
      "metadata": {
        "id": "LEqa_Kx4HO0Z",
        "colab_type": "text"
      },
      "source": [
        "Podemos ver información relevante de una librería, escribiendo su nombre seguido de un símbolo de pregunta.\n",
        "\n",
        "*Tip importante*: Esto funciona también para conocer qué realiza una función en particular"
      ]
    },
    {
      "cell_type": "code",
      "metadata": {
        "id": "Fvil58LlHKBz",
        "colab_type": "code",
        "colab": {}
      },
      "source": [
        "pd?"
      ],
      "execution_count": 0,
      "outputs": []
    },
    {
      "cell_type": "markdown",
      "metadata": {
        "id": "bgVqjjIbHlrO",
        "colab_type": "text"
      },
      "source": [
        "## Lectura de datasets \n",
        "Un *dataset* es un conjunto de datos organizados en una cierta disposición. Existen muchos formatos de datasets. A lo largo del módulo de Ciencia de Datos, trabajaremos con datasets que provienen de archivos .CSV, archivos JSON, .txt, entre otros.\n",
        "\n",
        "La librería Pandas procesa de forma rápida el contenido de los datasets (cualquiera sea el caso) y lo almacena en un **DataFrame**. Un DataFrame es una estructura bidimensional lógica (existe únicamente en memoria), que contiene datos estructurados y, a diferencia de un dataset, cada columna o campo tiene su nombre correspondiente que identifica los valores de cada registro o fila. "
      ]
    },
    {
      "cell_type": "markdown",
      "metadata": {
        "id": "HFTVwt4cJWnI",
        "colab_type": "text"
      },
      "source": [
        "### Archivos .CSV\n",
        "Los archivos *CSV* son fuentes de información generalmente separadas por comas, o por algún caracter en particular que delimita el final de cada dato. \n"
      ]
    },
    {
      "cell_type": "markdown",
      "metadata": {
        "id": "HWzZl7VzInjv",
        "colab_type": "text"
      },
      "source": [
        "Como ejemplo de importación de un archivo .CSV, vamos a obtener los datos de Ingresos y Egresos de personas al país en el 4° trimestre del año 2019, cuyo link de acceso al dataset figura en este [sitio web](https://datos.gob.ar/dataset/interior-ingresos-egresos-personas-al-pais-residencias-otorgadas/archivo/interior_effbfa04-fec7-43af-ab9e-ad5347f5e767)  \n",
        "\n",
        "El enlace que vamos a utilizar se obtiene haciendo click derecho en el botón \"*Descargar*\" y eligiendo la opción \"copiar la dirección del vínculo\".\n",
        "\n",
        "Para importar los datos, guardamos la URL destino en una variable, y se la mandamos por parámetro a la función **read_csv** que provee Pandas\n"
      ]
    },
    {
      "cell_type": "code",
      "metadata": {
        "id": "8U1-ZpLfHKc_",
        "colab_type": "code",
        "colab": {}
      },
      "source": [
        "url = \"https://datos.mininterior.gob.ar/dataset/dd032084-b7eb-4317-9151-05fc850c1654/resource/effbfa04-fec7-43af-ab9e-ad5347f5e767/download/movimientos-migratorios--4-trimestre---ano-2019.csv\"\n",
        "df = pd.read_csv(url, sep=',', encoding = \"ISO-8859-1\")"
      ],
      "execution_count": 0,
      "outputs": []
    },
    {
      "cell_type": "markdown",
      "metadata": {
        "id": "fLycCmnMLx1u",
        "colab_type": "text"
      },
      "source": [
        "En este caso, aparte de mandarle por parámetro la URL, vemos que se definió el caracter separador (una coma), y además se utilizó cierta codificación particular (ISO-8859-1). Estas dos configuraciones de lectura no son siempre necesarias, depende exclusivamente de cómo estén guardados los datos a importar."
      ]
    },
    {
      "cell_type": "markdown",
      "metadata": {
        "id": "c0dSUz_wMPH5",
        "colab_type": "text"
      },
      "source": [
        "Lo que hicimos fue guardar en una variable df , el resultado de la lectura del dataset. Posteriormente, invocaremos a df en una nueva celda de código para **visualizar sus primeras y últimas 5 filas**."
      ]
    },
    {
      "cell_type": "code",
      "metadata": {
        "id": "KMeoIt7sMjQQ",
        "colab_type": "code",
        "colab": {
          "base_uri": "https://localhost:8080/",
          "height": 419
        },
        "outputId": "b7a4435a-8b97-4c3d-8358-a594979f7a51"
      },
      "source": [
        "df"
      ],
      "execution_count": 14,
      "outputs": [
        {
          "output_type": "execute_result",
          "data": {
            "text/html": [
              "<div>\n",
              "<style scoped>\n",
              "    .dataframe tbody tr th:only-of-type {\n",
              "        vertical-align: middle;\n",
              "    }\n",
              "\n",
              "    .dataframe tbody tr th {\n",
              "        vertical-align: top;\n",
              "    }\n",
              "\n",
              "    .dataframe thead th {\n",
              "        text-align: right;\n",
              "    }\n",
              "</style>\n",
              "<table border=\"1\" class=\"dataframe\">\n",
              "  <thead>\n",
              "    <tr style=\"text-align: right;\">\n",
              "      <th></th>\n",
              "      <th>PASO_CRUCE</th>\n",
              "      <th>CANTIDAD</th>\n",
              "    </tr>\n",
              "  </thead>\n",
              "  <tbody>\n",
              "    <tr>\n",
              "      <th>0</th>\n",
              "      <td>AERO EZEIZA</td>\n",
              "      <td>2949664</td>\n",
              "    </tr>\n",
              "    <tr>\n",
              "      <th>1</th>\n",
              "      <td>PTE. INT. TANCREDO NEVES</td>\n",
              "      <td>2765577</td>\n",
              "    </tr>\n",
              "    <tr>\n",
              "      <th>2</th>\n",
              "      <td>PTE. SAN ROQUE GONZALEZ DE SAN</td>\n",
              "      <td>2202025</td>\n",
              "    </tr>\n",
              "    <tr>\n",
              "      <th>3</th>\n",
              "      <td>SALVADOR MAZZA - YACUIBA</td>\n",
              "      <td>923252</td>\n",
              "    </tr>\n",
              "    <tr>\n",
              "      <th>4</th>\n",
              "      <td>PASO DE LOS LIBRES</td>\n",
              "      <td>880025</td>\n",
              "    </tr>\n",
              "    <tr>\n",
              "      <th>...</th>\n",
              "      <td>...</td>\n",
              "      <td>...</td>\n",
              "    </tr>\n",
              "    <tr>\n",
              "      <th>95</th>\n",
              "      <td>PASO SICO</td>\n",
              "      <td>2236</td>\n",
              "    </tr>\n",
              "    <tr>\n",
              "      <th>96</th>\n",
              "      <td>AERO PUBLICO DE USHUAIA</td>\n",
              "      <td>2127</td>\n",
              "    </tr>\n",
              "    <tr>\n",
              "      <th>97</th>\n",
              "      <td>PUERTO LIBERTAD</td>\n",
              "      <td>2083</td>\n",
              "    </tr>\n",
              "    <tr>\n",
              "      <th>98</th>\n",
              "      <td>PUERTO OASIS</td>\n",
              "      <td>2025</td>\n",
              "    </tr>\n",
              "    <tr>\n",
              "      <th>99</th>\n",
              "      <td>PUERTO SANTA ANA</td>\n",
              "      <td>1970</td>\n",
              "    </tr>\n",
              "  </tbody>\n",
              "</table>\n",
              "<p>100 rows × 2 columns</p>\n",
              "</div>"
            ],
            "text/plain": [
              "                        PASO_CRUCE  CANTIDAD\n",
              "0                      AERO EZEIZA   2949664\n",
              "1         PTE. INT. TANCREDO NEVES   2765577\n",
              "2   PTE. SAN ROQUE GONZALEZ DE SAN   2202025\n",
              "3         SALVADOR MAZZA - YACUIBA    923252\n",
              "4               PASO DE LOS LIBRES    880025\n",
              "..                             ...       ...\n",
              "95                       PASO SICO      2236\n",
              "96         AERO PUBLICO DE USHUAIA      2127\n",
              "97                 PUERTO LIBERTAD      2083\n",
              "98                    PUERTO OASIS      2025\n",
              "99                PUERTO SANTA ANA      1970\n",
              "\n",
              "[100 rows x 2 columns]"
            ]
          },
          "metadata": {
            "tags": []
          },
          "execution_count": 14
        }
      ]
    },
    {
      "cell_type": "markdown",
      "metadata": {
        "id": "sRwoBCPqMk4e",
        "colab_type": "text"
      },
      "source": [
        "Es muy importante separar la lectura del dataset en una celda diferente a las que utilizamos para visualizarlo o procesar su contenido. De lo contrario, estaremos cargando nuevamente la fuente de datos cuando tal vez no sea necesario. "
      ]
    },
    {
      "cell_type": "markdown",
      "metadata": {
        "id": "9J5OBz_HNHTg",
        "colab_type": "text"
      },
      "source": [
        "### Características y Métodos generales de un DataFrame"
      ]
    },
    {
      "cell_type": "markdown",
      "metadata": {
        "id": "G2X3gztQNRPC",
        "colab_type": "text"
      },
      "source": [
        "Invocando al método **info**, podemos ver fácilmente cómo está compuesto el DataFrame"
      ]
    },
    {
      "cell_type": "code",
      "metadata": {
        "id": "BHrS8k-TMjiW",
        "colab_type": "code",
        "colab": {
          "base_uri": "https://localhost:8080/",
          "height": 170
        },
        "outputId": "611511dc-7ad1-4fe5-acd2-62711ef0792c"
      },
      "source": [
        "df.info()"
      ],
      "execution_count": 16,
      "outputs": [
        {
          "output_type": "stream",
          "text": [
            "<class 'pandas.core.frame.DataFrame'>\n",
            "RangeIndex: 100 entries, 0 to 99\n",
            "Data columns (total 2 columns):\n",
            " #   Column      Non-Null Count  Dtype \n",
            "---  ------      --------------  ----- \n",
            " 0   PASO_CRUCE  100 non-null    object\n",
            " 1   CANTIDAD    100 non-null    int64 \n",
            "dtypes: int64(1), object(1)\n",
            "memory usage: 1.7+ KB\n"
          ],
          "name": "stdout"
        }
      ]
    },
    {
      "cell_type": "markdown",
      "metadata": {
        "id": "Ihg0gmt7NdK3",
        "colab_type": "text"
      },
      "source": [
        "En este caso podemos observar que el DataFrame tiene 2 columnas, una para conocer el Paso o Cruce, y en la otra (de tipo int64), conocemos la cantidad de personas que cruzaron por esa vía."
      ]
    },
    {
      "cell_type": "markdown",
      "metadata": {
        "id": "6jsO7oq1Ns2a",
        "colab_type": "text"
      },
      "source": [
        "**Ejercicio**\n",
        "\n",
        "¿Qué hacen los siguientes atributos y métodos sobre el DataFrame: **columns y count()**?\n",
        "\n",
        "Probalos en las siguientes celdas de código!"
      ]
    },
    {
      "cell_type": "code",
      "metadata": {
        "id": "DhgAkqeTN5F3",
        "colab_type": "code",
        "colab": {}
      },
      "source": [
        ""
      ],
      "execution_count": 0,
      "outputs": []
    },
    {
      "cell_type": "code",
      "metadata": {
        "id": "yI0J60wBO5A4",
        "colab_type": "code",
        "colab": {}
      },
      "source": [
        ""
      ],
      "execution_count": 0,
      "outputs": []
    },
    {
      "cell_type": "markdown",
      "metadata": {
        "id": "CbdYnSbQO7wz",
        "colab_type": "text"
      },
      "source": [
        "Respuesta: "
      ]
    },
    {
      "cell_type": "markdown",
      "metadata": {
        "id": "h9GzudLYPeuf",
        "colab_type": "text"
      },
      "source": [
        "### Visualización general de datos del DataFrame"
      ]
    },
    {
      "cell_type": "markdown",
      "metadata": {
        "id": "f7Op98GDPFjR",
        "colab_type": "text"
      },
      "source": [
        "Podemos obtener registros específicos de un dataframe de varias maneras."
      ]
    },
    {
      "cell_type": "markdown",
      "metadata": {
        "id": "I6qujrsDPPcb",
        "colab_type": "text"
      },
      "source": [
        "Con **head(n)** y **tail(n)** podemos ver los **n** primeros y últimos (respectivamente) registros del dataframe\n",
        "\n",
        "Si dejamos vacío el valor de n, los métodos nos mostrarán **5** valores"
      ]
    },
    {
      "cell_type": "code",
      "metadata": {
        "id": "q57Q5n-9POHZ",
        "colab_type": "code",
        "colab": {
          "base_uri": "https://localhost:8080/",
          "height": 204
        },
        "outputId": "3bb59f33-1b9a-484c-e8e3-9297c232bd35"
      },
      "source": [
        "df.head()"
      ],
      "execution_count": 24,
      "outputs": [
        {
          "output_type": "execute_result",
          "data": {
            "text/html": [
              "<div>\n",
              "<style scoped>\n",
              "    .dataframe tbody tr th:only-of-type {\n",
              "        vertical-align: middle;\n",
              "    }\n",
              "\n",
              "    .dataframe tbody tr th {\n",
              "        vertical-align: top;\n",
              "    }\n",
              "\n",
              "    .dataframe thead th {\n",
              "        text-align: right;\n",
              "    }\n",
              "</style>\n",
              "<table border=\"1\" class=\"dataframe\">\n",
              "  <thead>\n",
              "    <tr style=\"text-align: right;\">\n",
              "      <th></th>\n",
              "      <th>PASO_CRUCE</th>\n",
              "      <th>CANTIDAD</th>\n",
              "    </tr>\n",
              "  </thead>\n",
              "  <tbody>\n",
              "    <tr>\n",
              "      <th>0</th>\n",
              "      <td>AERO EZEIZA</td>\n",
              "      <td>2949664</td>\n",
              "    </tr>\n",
              "    <tr>\n",
              "      <th>1</th>\n",
              "      <td>PTE. INT. TANCREDO NEVES</td>\n",
              "      <td>2765577</td>\n",
              "    </tr>\n",
              "    <tr>\n",
              "      <th>2</th>\n",
              "      <td>PTE. SAN ROQUE GONZALEZ DE SAN</td>\n",
              "      <td>2202025</td>\n",
              "    </tr>\n",
              "    <tr>\n",
              "      <th>3</th>\n",
              "      <td>SALVADOR MAZZA - YACUIBA</td>\n",
              "      <td>923252</td>\n",
              "    </tr>\n",
              "    <tr>\n",
              "      <th>4</th>\n",
              "      <td>PASO DE LOS LIBRES</td>\n",
              "      <td>880025</td>\n",
              "    </tr>\n",
              "  </tbody>\n",
              "</table>\n",
              "</div>"
            ],
            "text/plain": [
              "                       PASO_CRUCE  CANTIDAD\n",
              "0                     AERO EZEIZA   2949664\n",
              "1        PTE. INT. TANCREDO NEVES   2765577\n",
              "2  PTE. SAN ROQUE GONZALEZ DE SAN   2202025\n",
              "3        SALVADOR MAZZA - YACUIBA    923252\n",
              "4              PASO DE LOS LIBRES    880025"
            ]
          },
          "metadata": {
            "tags": []
          },
          "execution_count": 24
        }
      ]
    },
    {
      "cell_type": "code",
      "metadata": {
        "id": "m9GH8XPaP5zH",
        "colab_type": "code",
        "colab": {
          "base_uri": "https://localhost:8080/",
          "height": 111
        },
        "outputId": "74e6fabc-2e64-44ec-93c3-3f308583dee6"
      },
      "source": [
        "df.head(2)"
      ],
      "execution_count": 25,
      "outputs": [
        {
          "output_type": "execute_result",
          "data": {
            "text/html": [
              "<div>\n",
              "<style scoped>\n",
              "    .dataframe tbody tr th:only-of-type {\n",
              "        vertical-align: middle;\n",
              "    }\n",
              "\n",
              "    .dataframe tbody tr th {\n",
              "        vertical-align: top;\n",
              "    }\n",
              "\n",
              "    .dataframe thead th {\n",
              "        text-align: right;\n",
              "    }\n",
              "</style>\n",
              "<table border=\"1\" class=\"dataframe\">\n",
              "  <thead>\n",
              "    <tr style=\"text-align: right;\">\n",
              "      <th></th>\n",
              "      <th>PASO_CRUCE</th>\n",
              "      <th>CANTIDAD</th>\n",
              "    </tr>\n",
              "  </thead>\n",
              "  <tbody>\n",
              "    <tr>\n",
              "      <th>0</th>\n",
              "      <td>AERO EZEIZA</td>\n",
              "      <td>2949664</td>\n",
              "    </tr>\n",
              "    <tr>\n",
              "      <th>1</th>\n",
              "      <td>PTE. INT. TANCREDO NEVES</td>\n",
              "      <td>2765577</td>\n",
              "    </tr>\n",
              "  </tbody>\n",
              "</table>\n",
              "</div>"
            ],
            "text/plain": [
              "                 PASO_CRUCE  CANTIDAD\n",
              "0               AERO EZEIZA   2949664\n",
              "1  PTE. INT. TANCREDO NEVES   2765577"
            ]
          },
          "metadata": {
            "tags": []
          },
          "execution_count": 25
        }
      ]
    },
    {
      "cell_type": "code",
      "metadata": {
        "id": "rrn6HFi8P78r",
        "colab_type": "code",
        "colab": {
          "base_uri": "https://localhost:8080/",
          "height": 359
        },
        "outputId": "91654f51-12a4-42a7-f15b-fee7f271d4c2"
      },
      "source": [
        "df.tail(10)"
      ],
      "execution_count": 26,
      "outputs": [
        {
          "output_type": "execute_result",
          "data": {
            "text/html": [
              "<div>\n",
              "<style scoped>\n",
              "    .dataframe tbody tr th:only-of-type {\n",
              "        vertical-align: middle;\n",
              "    }\n",
              "\n",
              "    .dataframe tbody tr th {\n",
              "        vertical-align: top;\n",
              "    }\n",
              "\n",
              "    .dataframe thead th {\n",
              "        text-align: right;\n",
              "    }\n",
              "</style>\n",
              "<table border=\"1\" class=\"dataframe\">\n",
              "  <thead>\n",
              "    <tr style=\"text-align: right;\">\n",
              "      <th></th>\n",
              "      <th>PASO_CRUCE</th>\n",
              "      <th>CANTIDAD</th>\n",
              "    </tr>\n",
              "  </thead>\n",
              "  <tbody>\n",
              "    <tr>\n",
              "      <th>90</th>\n",
              "      <td>PASO AGUA NEGRA</td>\n",
              "      <td>2776</td>\n",
              "    </tr>\n",
              "    <tr>\n",
              "      <th>91</th>\n",
              "      <td>PUERTO OLIVOS</td>\n",
              "      <td>2682</td>\n",
              "    </tr>\n",
              "    <tr>\n",
              "      <th>92</th>\n",
              "      <td>PUERTO YAHAPE</td>\n",
              "      <td>2494</td>\n",
              "    </tr>\n",
              "    <tr>\n",
              "      <th>93</th>\n",
              "      <td>PUERTO ISLA MARTIN GARCIA</td>\n",
              "      <td>2354</td>\n",
              "    </tr>\n",
              "    <tr>\n",
              "      <th>94</th>\n",
              "      <td>ING. PALLAVICINI - IBAÑEZ</td>\n",
              "      <td>2248</td>\n",
              "    </tr>\n",
              "    <tr>\n",
              "      <th>95</th>\n",
              "      <td>PASO SICO</td>\n",
              "      <td>2236</td>\n",
              "    </tr>\n",
              "    <tr>\n",
              "      <th>96</th>\n",
              "      <td>AERO PUBLICO DE USHUAIA</td>\n",
              "      <td>2127</td>\n",
              "    </tr>\n",
              "    <tr>\n",
              "      <th>97</th>\n",
              "      <td>PUERTO LIBERTAD</td>\n",
              "      <td>2083</td>\n",
              "    </tr>\n",
              "    <tr>\n",
              "      <th>98</th>\n",
              "      <td>PUERTO OASIS</td>\n",
              "      <td>2025</td>\n",
              "    </tr>\n",
              "    <tr>\n",
              "      <th>99</th>\n",
              "      <td>PUERTO SANTA ANA</td>\n",
              "      <td>1970</td>\n",
              "    </tr>\n",
              "  </tbody>\n",
              "</table>\n",
              "</div>"
            ],
            "text/plain": [
              "                   PASO_CRUCE  CANTIDAD\n",
              "90            PASO AGUA NEGRA      2776\n",
              "91              PUERTO OLIVOS      2682\n",
              "92              PUERTO YAHAPE      2494\n",
              "93  PUERTO ISLA MARTIN GARCIA      2354\n",
              "94  ING. PALLAVICINI - IBAÑEZ      2248\n",
              "95                  PASO SICO      2236\n",
              "96    AERO PUBLICO DE USHUAIA      2127\n",
              "97            PUERTO LIBERTAD      2083\n",
              "98               PUERTO OASIS      2025\n",
              "99           PUERTO SANTA ANA      1970"
            ]
          },
          "metadata": {
            "tags": []
          },
          "execution_count": 26
        }
      ]
    }
  ]
}