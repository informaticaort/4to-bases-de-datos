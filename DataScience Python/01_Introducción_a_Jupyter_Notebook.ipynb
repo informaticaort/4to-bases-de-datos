{
  "nbformat": 4,
  "nbformat_minor": 0,
  "metadata": {
    "colab": {
      "name": "01 - Introducción a Jupyter Notebook.ipynb",
      "provenance": [],
      "collapsed_sections": []
    },
    "kernelspec": {
      "name": "python3",
      "display_name": "Python 3"
    }
  },
  "cells": [
    {
      "cell_type": "markdown",
      "metadata": {
        "id": "hOJDiSm53fH9",
        "colab_type": "text"
      },
      "source": [
        "# **01 - Introducción a Jupyter Notebook**\n",
        "\n",
        "En este archivo daremos los primeros pasos en el desarrollo de proyectos e investigaciones de la Ciencia de Datos o DataScience. Veremos como se definen los bloques de texto para documentar, y los segmentos de código Python, con los cuales manipularemos los datos en cuestión."
      ]
    },
    {
      "cell_type": "markdown",
      "metadata": {
        "id": "ferzFPVX6p1W",
        "colab_type": "text"
      },
      "source": [
        "## **Estructura de un notebook**"
      ]
    },
    {
      "cell_type": "markdown",
      "metadata": {
        "id": "AD8UYVcZ5hhN",
        "colab_type": "text"
      },
      "source": [
        "### Celdas de texto\n",
        "\n",
        "En un cuaderno o notebook de Jupyter se pueden intercalar celdas de código con celdas de texto enriquecido, de manera de ir documentando lo realizado con anotaciones, comentarios, conclusiones, explicaciones matemáticas, entre otras. \n",
        "Esta celda, por ejemplo es una celda de texto. Para editarla hacé doble click sobre ella. Para salir del modo de edición apretá _Shift + Enter_\n",
        "\n",
        "La escritura de un documento Jupyter está dada por lo que se denomina **_markdown_**. De esta forma se puede dar formato a los encabezados y a los párrafos utilizando cursiva, negrita y subrayado, entre otras personalizaciones. "
      ]
    },
    {
      "cell_type": "markdown",
      "metadata": {
        "id": "6U6XK64L64Ow",
        "colab_type": "text"
      },
      "source": [
        "### Código\n",
        "En el mismo documento que permite la escritura de textos, uno puede programar líneas de código fuente de varios lenguajes (entre ellos Python o R), dentro de las celdas de tipo código. \n",
        "\n",
        "Debajo de este párrafo, hay una celda de código. Para ejecutar el mismo, posicionate en esa celda, y apretá _Shift + Enter_. El resultado de la ejecución del código aparece justo abajo del código. \n"
      ]
    },
    {
      "cell_type": "code",
      "metadata": {
        "id": "4GcFJFY28p2n",
        "colab_type": "code",
        "colab": {
          "base_uri": "https://localhost:8080/",
          "height": 34
        },
        "outputId": "8843529d-3a88-4be5-8158-2fb4ab794fe1"
      },
      "source": [
        "print('¡Hola mundo!') # se pueden incluir comentarios dentro del mismo código con #"
      ],
      "execution_count": 1,
      "outputs": [
        {
          "output_type": "stream",
          "text": [
            "¡Hola mundo!\n"
          ],
          "name": "stdout"
        }
      ]
    },
    {
      "cell_type": "markdown",
      "metadata": {
        "id": "j-7un19487ln",
        "colab_type": "text"
      },
      "source": [
        "**Ejercicio**\n",
        "En la próxima celda, escribí una cuenta matemática, y probá el resultado ejecutando la misma mediante el botón ejecutar o la combinación _Shift + Enter_"
      ]
    },
    {
      "cell_type": "code",
      "metadata": {
        "id": "Zcfj7-nM9RUQ",
        "colab_type": "code",
        "colab": {}
      },
      "source": [
        ""
      ],
      "execution_count": 0,
      "outputs": []
    },
    {
      "cell_type": "markdown",
      "metadata": {
        "id": "S1yCEgLA9Txb",
        "colab_type": "text"
      },
      "source": [
        "## **Formato y características de las celdas de texto**\n",
        "Como mencionábamos antes, las celdas de texto pueden tener **formato** e imágenes:\n",
        "\n",
        "![OMG](https://media.giphy.com/media/3o72F8t9TDi2xVnxOE/giphy.gif)\n",
        "\n",
        "> Podemos definir un texto con sangría\n",
        "\n",
        "Se puede utilizar [LaTeX](https://upmath.me/) para documentar funciones matemáticas\n",
        "\n",
        "\n",
        "\n",
        "$$x_{1,2} = {-b\\pm\\sqrt{b^2 - 4ac} \\over 2a}.$$\n",
        "\n",
        "\n"
      ]
    },
    {
      "cell_type": "markdown",
      "metadata": {
        "id": "PZ4k3Zo3_Xhn",
        "colab_type": "text"
      },
      "source": [
        "Jupyter además, nos permite ejecutar código HTML para embeber por ejemplo un video de Youtube"
      ]
    },
    {
      "cell_type": "code",
      "metadata": {
        "id": "0imBCxh0_MW5",
        "colab_type": "code",
        "colab": {
          "base_uri": "https://localhost:8080/",
          "height": 336
        },
        "outputId": "f7fad222-ae06-44ba-b9d4-9b9a45e8ef01"
      },
      "source": [
        "%%html\n",
        "\n",
        "<iframe width=\"560\" height=\"315\" src=\"https://www.youtube.com/embed/dvgZkm1xWPE\" frameborder=\"0\" allow=\"accelerometer; autoplay; encrypted-media; gyroscope; picture-in-picture\" allowfullscreen></iframe>"
      ],
      "execution_count": 2,
      "outputs": [
        {
          "output_type": "display_data",
          "data": {
            "text/html": [
              "\n",
              "<iframe width=\"560\" height=\"315\" src=\"https://www.youtube.com/embed/dvgZkm1xWPE\" frameborder=\"0\" allow=\"accelerometer; autoplay; encrypted-media; gyroscope; picture-in-picture\" allowfullscreen></iframe>"
            ],
            "text/plain": [
              "<IPython.core.display.HTML object>"
            ]
          },
          "metadata": {
            "tags": []
          }
        }
      ]
    },
    {
      "cell_type": "markdown",
      "metadata": {
        "id": "ZnNmiBxiBNa5",
        "colab_type": "text"
      },
      "source": [
        "## **Librerías**\n",
        "Si algo podemos destacar del lenguaje Python, es sin duda la enorme comunidad de desarrolladores que tiene detrás, y la cantidad de librerías con funcionalidades que nos van a facilitar mucho el trabajo. \n"
      ]
    },
    {
      "cell_type": "markdown",
      "metadata": {
        "id": "KZuzT_ePLYry",
        "colab_type": "text"
      },
      "source": [
        "### Importación de librerías\n",
        "Lo mas usual es usar las primeras celdas para importar codigo de otras librerías, que nos ayuden a realizar el análisis o informe. \n",
        "\n",
        "En la celda de abajo aparecen las directivas de importación de 2 de las librerias más importantes de **Python**: _Numpy y Pyplot_ (originaria de Matplotlib).\n"
      ]
    },
    {
      "cell_type": "code",
      "metadata": {
        "id": "izCC-Iwu_UW3",
        "colab_type": "code",
        "colab": {}
      },
      "source": [
        "import numpy as np\n",
        "import matplotlib.pyplot as plt"
      ],
      "execution_count": 0,
      "outputs": []
    },
    {
      "cell_type": "markdown",
      "metadata": {
        "id": "PcX6JfbVCmdN",
        "colab_type": "text"
      },
      "source": [
        "Al importar una librería, se le asigna una abreviatura o pseudónimo usando la palabra **as**. \n",
        "\n",
        "Así, siempre que querramos invocar una función de una librería, por ejemplo Numpy, escribimos _np.nombre_funcion_"
      ]
    },
    {
      "cell_type": "markdown",
      "metadata": {
        "id": "-pfcTfGRDijb",
        "colab_type": "text"
      },
      "source": [
        "![Numpy](https://lh3.googleusercontent.com/proxy/x74J26Jq12OVsMkelU54EyxHWx9vMoKCt3bO9WiRc9vGyJrPwmbWyDGChketBpCZ1gJheytbqxfFk2NCjsatEfrbngj36oEjBVKM7AEz)\n",
        "\n"
      ]
    },
    {
      "cell_type": "markdown",
      "metadata": {
        "id": "dh5rLQ4nEzcr",
        "colab_type": "text"
      },
      "source": [
        "**Numpy** es una libreria para trabajar eficientemente con datos numéricos en Python. Acá está el link a la [documentación oficial](https://numpy.org/)\n"
      ]
    },
    {
      "cell_type": "markdown",
      "metadata": {
        "id": "t1gRbZJLFI0k",
        "colab_type": "text"
      },
      "source": [
        "### Arange (Numpy)\n",
        "La función **arange** permite generar vectores (_arrays_). En el próximo ejemplo vamos a usar la misma para generar valores del 0 al 20 (no inclusive), y luego vamos a calcular los valores al cuadrado de ese vector. \n",
        "\n",
        "Si en la última linea de una celda escribís solo el nombre de una variable, se muestra el contenido de esa variable. \n",
        "También se puede mostrar el contenido usando _print_\n",
        "\n"
      ]
    },
    {
      "cell_type": "code",
      "metadata": {
        "id": "KQjIkEr-C8qw",
        "colab_type": "code",
        "colab": {
          "base_uri": "https://localhost:8080/",
          "height": 85
        },
        "outputId": "50a2e154-db4a-4dea-991d-94fdada46586"
      },
      "source": [
        "x = np.arange(0, 20) #Guardo en x, un array con los números del 0 al 19 \n",
        "y = x ** 2 #En y, almaceno los cuadrados de los números del vector anterior\n",
        "print(x)\n",
        "print(\"Y sus cuadrados: \")\n",
        "print(y)"
      ],
      "execution_count": 4,
      "outputs": [
        {
          "output_type": "stream",
          "text": [
            "[ 0  1  2  3  4  5  6  7  8  9 10 11 12 13 14 15 16 17 18 19]\n",
            "Y sus cuadrados: \n",
            "[  0   1   4   9  16  25  36  49  64  81 100 121 144 169 196 225 256 289\n",
            " 324 361]\n"
          ],
          "name": "stdout"
        }
      ]
    },
    {
      "cell_type": "markdown",
      "metadata": {
        "id": "wGC2_B8nHVuR",
        "colab_type": "text"
      },
      "source": [
        "Arange también nos permite generar vectores con una diferencia entre los valores específica, definida en un tercer parámetro"
      ]
    },
    {
      "cell_type": "code",
      "metadata": {
        "id": "jlucDw5tHg9K",
        "colab_type": "code",
        "colab": {
          "base_uri": "https://localhost:8080/",
          "height": 85
        },
        "outputId": "51dce831-15b7-431b-f0a4-4040d966cfb8"
      },
      "source": [
        "#Vector con valores numéricos entre 0 y 1, separados cada 0.02\n",
        "print( np.arange(0, 1 ,0.02) )"
      ],
      "execution_count": 5,
      "outputs": [
        {
          "output_type": "stream",
          "text": [
            "[0.   0.02 0.04 0.06 0.08 0.1  0.12 0.14 0.16 0.18 0.2  0.22 0.24 0.26\n",
            " 0.28 0.3  0.32 0.34 0.36 0.38 0.4  0.42 0.44 0.46 0.48 0.5  0.52 0.54\n",
            " 0.56 0.58 0.6  0.62 0.64 0.66 0.68 0.7  0.72 0.74 0.76 0.78 0.8  0.82\n",
            " 0.84 0.86 0.88 0.9  0.92 0.94 0.96 0.98]\n"
          ],
          "name": "stdout"
        }
      ]
    },
    {
      "cell_type": "markdown",
      "metadata": {
        "id": "aRsgP6yCIkS8",
        "colab_type": "text"
      },
      "source": [
        "### Random (Numpy)\n",
        "Numpy tiene muchas funcionalidades. A lo largo de este camino veremos la implementación de algunas de ellas. Para cerrar veremos cómo funciona random. "
      ]
    },
    {
      "cell_type": "code",
      "metadata": {
        "id": "W69r2eR2I0mn",
        "colab_type": "code",
        "colab": {
          "base_uri": "https://localhost:8080/",
          "height": 51
        },
        "outputId": "b68cd1a4-a10b-4df1-af9f-06885610da7d"
      },
      "source": [
        "print (\"Creo un array de números aleatorios entre 0 y 100 (no inclusive), con un tamaño de 5 posiciones\")\n",
        "aleatorios = np.random.randint(0,100,5)\n",
        "print(aleatorios)"
      ],
      "execution_count": 6,
      "outputs": [
        {
          "output_type": "stream",
          "text": [
            "Creo un array de números aleatorios entre 0 y 100 (no inclusive), con un tamaño de 5 posiciones\n",
            "[46  0 22 67  6]\n"
          ],
          "name": "stdout"
        }
      ]
    },
    {
      "cell_type": "markdown",
      "metadata": {
        "id": "A_V1VC5rKOQy",
        "colab_type": "text"
      },
      "source": [
        "Un ejemplo más, esta vez, generando una matriz de números binarios aleatorios"
      ]
    },
    {
      "cell_type": "code",
      "metadata": {
        "id": "DKsYE4bXIymy",
        "colab_type": "code",
        "colab": {
          "base_uri": "https://localhost:8080/",
          "height": 119
        },
        "outputId": "16681eea-5b48-48ba-d41a-8a7c818cc9e5"
      },
      "source": [
        "print (\"Creo un array bidimensional (matriz) de números binarios aleatorios\")\n",
        "aleatorios = np.random.randint(0,2,(5,5))\n",
        "print(aleatorios)"
      ],
      "execution_count": 7,
      "outputs": [
        {
          "output_type": "stream",
          "text": [
            "Creo un array bidimensional (matriz) de números binarios aleatorios\n",
            "[[0 0 1 1 1]\n",
            " [1 0 1 0 1]\n",
            " [1 1 1 0 1]\n",
            " [1 1 0 0 0]\n",
            " [0 1 1 1 0]]\n"
          ],
          "name": "stdout"
        }
      ]
    },
    {
      "cell_type": "markdown",
      "metadata": {
        "id": "uozGwRwBLgxc",
        "colab_type": "text"
      },
      "source": [
        "<img src=\"https://matplotlib.org/_static/logo2_compressed.svg\" alt=\"Matplotlib\" width=\"600px\" />\n"
      ]
    },
    {
      "cell_type": "markdown",
      "metadata": {
        "id": "mQ95gHcfMRvp",
        "colab_type": "text"
      },
      "source": [
        "**Pyplot** es un módulo que provee la megalibrería **Matplotlib**. Es un banco enorme de recursos para realizar gráficos a partir de datos en el lenguaje *Python*. La documentación oficial la pueden encontrar [acá](https://matplotlib.org/)"
      ]
    },
    {
      "cell_type": "markdown",
      "metadata": {
        "id": "gugDsrmFNKAK",
        "colab_type": "text"
      },
      "source": [
        "Utilizaremos la abreviatura *plt* para utilizar las funcionalidades que provee Pyplot. En este próximo ejemplo, vamos a dibujar una curva que representa los valores de x e y guardados en el primer ejemplo de Arange. "
      ]
    },
    {
      "cell_type": "markdown",
      "metadata": {
        "id": "idMa5o5TRXCe",
        "colab_type": "text"
      },
      "source": [
        "### Plot (Pyplot)\n",
        "Al método plot, le pasamos los dos array, y un tercer valor que determina el color de la curva (\"r\" = red = rojo). Luego, escribimos lo que queremos que titule el eje X y eje Y"
      ]
    },
    {
      "cell_type": "code",
      "metadata": {
        "id": "ENrp57-PMG3B",
        "colab_type": "code",
        "colab": {
          "base_uri": "https://localhost:8080/",
          "height": 287
        },
        "outputId": "1a129d51-9b9f-4e09-a19b-17c021c60ff1"
      },
      "source": [
        "plt.plot(x, y, \"g\") # para hacer un grafico de x contra y\n",
        "plt.xlabel(\"Eje X\", fontsize=18)\n",
        "plt.ylabel(\"Eje Y\", fontsize=18); # Se pueden agregar opciones de formato, como el color, el tamaño de letra, entre otras"
      ],
      "execution_count": 8,
      "outputs": [
        {
          "output_type": "display_data",
          "data": {
            "image/png": "[encoded data removed]",
            "text/plain": [
              "<Figure size 432x288 with 1 Axes>"
            ]
          },
          "metadata": {
            "tags": [],
            "needs_background": "light"
          }
        }
      ]
    },
    {
      "cell_type": "markdown",
      "metadata": {
        "id": "1IImw14qPKhX",
        "colab_type": "text"
      },
      "source": [
        "Eh? Y ese punto y coma?\n",
        "\n",
        "Python es un lenguaje muy especial, que no utiliza ; para cerrar sus sentencias. Sin embargo en este caso, escribir un ; permite que no se imprima en el documento la leyenda de generación del gráfico. Si no me seguiste, borrá el ; y ejecutá el bloque nuevamente. "
      ]
    },
    {
      "cell_type": "markdown",
      "metadata": {
        "id": "JDaSzUG3PhAW",
        "colab_type": "text"
      },
      "source": [
        "Veamos un ejemplo más...\n",
        "\n",
        "Esta vez, creamos una función en particular a diseñar.\n",
        "\n",
        "Nuestra función será: $$f(x)=3x^2+5$$ "
      ]
    },
    {
      "cell_type": "markdown",
      "metadata": {
        "id": "VK8RmBpqTBYe",
        "colab_type": "text"
      },
      "source": [
        "Aprovechemos la oportunidad para ver cómo se declara una **función** en Python:"
      ]
    },
    {
      "cell_type": "code",
      "metadata": {
        "id": "7BdeNNyARg76",
        "colab_type": "code",
        "colab": {}
      },
      "source": [
        "def f(x):\n",
        "    return 3*x ** 2 + 5\n",
        "\n",
        "#Super importante la tabulación de la segunda línea, para especificar que el return está DENTRO de la declaración de f(x)"
      ],
      "execution_count": 0,
      "outputs": []
    },
    {
      "cell_type": "markdown",
      "metadata": {
        "id": "p78pZKwwRvL9",
        "colab_type": "text"
      },
      "source": [
        "Vamos a generar un array de valores entre 0 y 100, con distancia de 0.1 entre cada valor, y dibujaremos la función f(x) resultante. "
      ]
    },
    {
      "cell_type": "code",
      "metadata": {
        "id": "jKsiKlcXRLqb",
        "colab_type": "code",
        "colab": {
          "base_uri": "https://localhost:8080/",
          "height": 265
        },
        "outputId": "4d0b4c67-4e3d-4f42-fcba-fa68c1714394"
      },
      "source": [
        "valores = np.arange(0.0, 100.0, 0.1)\n",
        "\n",
        "plt.plot(valores, f(valores), 'r--') ;"
      ],
      "execution_count": 10,
      "outputs": [
        {
          "output_type": "display_data",
          "data": {
            "image/png": "[encoded data removed]",
            "text/plain": [
              "<Figure size 432x288 with 1 Axes>"
            ]
          },
          "metadata": {
            "tags": [],
            "needs_background": "light"
          }
        }
      ]
    },
    {
      "cell_type": "markdown",
      "metadata": {
        "id": "P8moybK9QSKV",
        "colab_type": "text"
      },
      "source": [
        "No sólo podemos realizar gráficos simples con Pyplot. Más adelante lo utilizaremos por ejemplo, para realizar histogramas, gráficos de barras o modelos de dispersión, entre otros. "
      ]
    }
  ]
}